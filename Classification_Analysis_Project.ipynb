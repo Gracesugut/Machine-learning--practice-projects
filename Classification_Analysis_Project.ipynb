{
  "nbformat": 4,
  "nbformat_minor": 0,
  "metadata": {
    "colab": {
      "name": "Classification Analysis Project",
      "provenance": [],
      "collapsed_sections": [],
      "authorship_tag": "ABX9TyNqXXGJUViM/zISxYCNozqS",
      "include_colab_link": true
    },
    "kernelspec": {
      "name": "python3",
      "display_name": "Python 3"
    }
  },
  "cells": [
    {
      "cell_type": "markdown",
      "metadata": {
        "id": "view-in-github",
        "colab_type": "text"
      },
      "source": [
        "<a href=\"https://colab.research.google.com/github/Gracesugut/Machine-learning--practice-projects/blob/master/Classification_Analysis_Project.ipynb\" target=\"_parent\"><img src=\"https://colab.research.google.com/assets/colab-badge.svg\" alt=\"Open In Colab\"/></a>"
      ]
    },
    {
      "cell_type": "markdown",
      "metadata": {
        "id": "TNZWrG5TtES2",
        "colab_type": "text"
      },
      "source": [
        "**RESEARCH QUESTION**"
      ]
    },
    {
      "cell_type": "markdown",
      "metadata": {
        "id": "lCu0UQQ5rNAO",
        "colab_type": "text"
      },
      "source": [
        "What are the main factors that cause a customer to Churn? Predicting whether an customer will churn"
      ]
    },
    {
      "cell_type": "markdown",
      "metadata": {
        "id": "IvB3VxsuuhlX",
        "colab_type": "text"
      },
      "source": [
        "**METRICS FOR SUCCESS**"
      ]
    },
    {
      "cell_type": "markdown",
      "metadata": {
        "id": "bK-RVDsou-kf",
        "colab_type": "text"
      },
      "source": [
        "\n",
        "\n",
        "*  I will  examine the dataset to check whether it is imbalanced or balanced\n",
        "*   Check for accuracy score (works for balanced dataset)\n",
        "*  Check for high precision ,high recall and high F1 score (works for imbalanced dataset)\n",
        "\n"
      ]
    },
    {
      "cell_type": "markdown",
      "metadata": {
        "id": "-NxRtRcYxmZi",
        "colab_type": "text"
      },
      "source": [
        "**CONTEXT OF THE RESEARCH PROBLEM**"
      ]
    },
    {
      "cell_type": "markdown",
      "metadata": {
        "id": "ygLV0Czuyrbe",
        "colab_type": "text"
      },
      "source": [
        "The communications sector is emerging with new technologies , wireless and wireline services.Industry success expects a better perception of customer requirements and superior quality of service and models.Customer churn has a huge impact on companies and is the prime focus area for companies to remin competitive.Companies ought to anticipate how each customers will react to specific offers and predict which customers will be positively influences. It is very important for to retain their customers to maintain profitability."
      ]
    },
    {
      "cell_type": "markdown",
      "metadata": {
        "id": "cQfqEFxN69DR",
        "colab_type": "text"
      },
      "source": [
        "**EXPERIMENTAL DESIGN**"
      ]
    },
    {
      "cell_type": "markdown",
      "metadata": {
        "id": "IaSxcy967Ber",
        "colab_type": "text"
      },
      "source": [
        "The steps to acomplish the project include:\n",
        "\n",
        "\n",
        "*   Importation of the data\n",
        "*   Data preparation and cleaning. This involves:\n",
        "       performing quality checks on the data\n",
        "       removing any misssing values and duplicates\n",
        "       identifying any outliers\n",
        "       Identiying  any irregular data\n",
        "\n",
        "*   Data analysis:\n",
        "       conducting step by step analysis on each data\n",
        "       Analysis of binary data\n",
        "       Feature engineering and checking for multicolinearity\n",
        "*   Data Modelling:\n",
        "       This involves classification analysis to determine which model  will     perform best on the data\n",
        "\n",
        "\n",
        "\n",
        "\n"
      ]
    },
    {
      "cell_type": "markdown",
      "metadata": {
        "id": "nyOzZue17GgB",
        "colab_type": "text"
      },
      "source": [
        "**DATA RELEVANCE**"
      ]
    },
    {
      "cell_type": "markdown",
      "metadata": {
        "id": "Q5jP0U0i7K2O",
        "colab_type": "text"
      },
      "source": [
        "The data provided is relevant to the research question as it provides insights to which group of customers are churning and how to predict it."
      ]
    },
    {
      "cell_type": "markdown",
      "metadata": {
        "id": "aY43WSJTuQ0J",
        "colab_type": "text"
      },
      "source": [
        "**[DATA CLEANING AND PREPARATION**"
      ]
    },
    {
      "cell_type": "code",
      "metadata": {
        "id": "H-0rIZZegQIS",
        "colab_type": "code",
        "colab": {}
      },
      "source": [
        "# load libraries\n",
        "import pandas as pd\n",
        "import numpy as np\n",
        "import matplotlib.pyplot as plt\n",
        "import seaborn as sns\n",
        "%matplotlib inline\n",
        "\n",
        "# to display all columns\n",
        "pd.set_option('display.max.columns', None)\n",
        "\n",
        "# to display the entire contents of a cell\n",
        "pd.set_option('display.max_colwidth', None)"
      ],
      "execution_count": null,
      "outputs": []
    },
    {
      "cell_type": "code",
      "metadata": {
        "id": "XHiUYqnWpt1J",
        "colab_type": "code",
        "colab": {
          "base_uri": "https://localhost:8080/",
          "height": 162
        },
        "outputId": "e7d829c1-15fb-4643-df09-20a61b257155"
      },
      "source": [
        "#importing the data\n",
        "customers=pd.read_csv('https://bit.ly/MTNTelcoDataset' )\n",
        "customers.sample(3)"
      ],
      "execution_count": null,
      "outputs": [
        {
          "output_type": "execute_result",
          "data": {
            "text/html": [
              "<div>\n",
              "<style scoped>\n",
              "    .dataframe tbody tr th:only-of-type {\n",
              "        vertical-align: middle;\n",
              "    }\n",
              "\n",
              "    .dataframe tbody tr th {\n",
              "        vertical-align: top;\n",
              "    }\n",
              "\n",
              "    .dataframe thead th {\n",
              "        text-align: right;\n",
              "    }\n",
              "</style>\n",
              "<table border=\"1\" class=\"dataframe\">\n",
              "  <thead>\n",
              "    <tr style=\"text-align: right;\">\n",
              "      <th></th>\n",
              "      <th>recordid</th>\n",
              "      <th>customer_id</th>\n",
              "      <th>account_length</th>\n",
              "      <th>area_code</th>\n",
              "      <th>international_plan</th>\n",
              "      <th>total_intl_minutes</th>\n",
              "      <th>total_intl_calls</th>\n",
              "      <th>voice_mail_plan</th>\n",
              "      <th>number_vmail_messages</th>\n",
              "      <th>total_day_minutes</th>\n",
              "      <th>total_day_calls</th>\n",
              "      <th>total_day_charge</th>\n",
              "      <th>total_eve_minutes</th>\n",
              "      <th>total_eve_calls</th>\n",
              "      <th>total_eve_charge</th>\n",
              "      <th>total_night_minutes</th>\n",
              "      <th>total_night_calls</th>\n",
              "      <th>total_night_charge</th>\n",
              "      <th>total_intl_minutes_2</th>\n",
              "      <th>total_intl_calls_2</th>\n",
              "      <th>total_intl_charge</th>\n",
              "      <th>number_customer_service_calls</th>\n",
              "      <th>churn</th>\n",
              "    </tr>\n",
              "  </thead>\n",
              "  <tbody>\n",
              "    <tr>\n",
              "      <th>10683</th>\n",
              "      <td>10684</td>\n",
              "      <td>26014670.0</td>\n",
              "      <td>176</td>\n",
              "      <td>415</td>\n",
              "      <td>False</td>\n",
              "      <td>8.7</td>\n",
              "      <td>4</td>\n",
              "      <td>False</td>\n",
              "      <td>0</td>\n",
              "      <td>169.5</td>\n",
              "      <td>151</td>\n",
              "      <td>28.82</td>\n",
              "      <td>112.9</td>\n",
              "      <td>84</td>\n",
              "      <td>9.60</td>\n",
              "      <td>56.6</td>\n",
              "      <td>99</td>\n",
              "      <td>2.55</td>\n",
              "      <td>8.7</td>\n",
              "      <td>4</td>\n",
              "      <td>2.35</td>\n",
              "      <td>0</td>\n",
              "      <td>False</td>\n",
              "    </tr>\n",
              "    <tr>\n",
              "      <th>7709</th>\n",
              "      <td>7710</td>\n",
              "      <td>11731494.0</td>\n",
              "      <td>193</td>\n",
              "      <td>415</td>\n",
              "      <td>False</td>\n",
              "      <td>11.7</td>\n",
              "      <td>3</td>\n",
              "      <td>True</td>\n",
              "      <td>31</td>\n",
              "      <td>71.2</td>\n",
              "      <td>58</td>\n",
              "      <td>12.10</td>\n",
              "      <td>124.7</td>\n",
              "      <td>105</td>\n",
              "      <td>10.60</td>\n",
              "      <td>155.5</td>\n",
              "      <td>108</td>\n",
              "      <td>7.00</td>\n",
              "      <td>11.7</td>\n",
              "      <td>3</td>\n",
              "      <td>3.16</td>\n",
              "      <td>0</td>\n",
              "      <td>False</td>\n",
              "    </tr>\n",
              "    <tr>\n",
              "      <th>12293</th>\n",
              "      <td>12294</td>\n",
              "      <td>24521650.0</td>\n",
              "      <td>87</td>\n",
              "      <td>510</td>\n",
              "      <td>False</td>\n",
              "      <td>7.4</td>\n",
              "      <td>2</td>\n",
              "      <td>False</td>\n",
              "      <td>0</td>\n",
              "      <td>256.2</td>\n",
              "      <td>105</td>\n",
              "      <td>43.55</td>\n",
              "      <td>160.7</td>\n",
              "      <td>102</td>\n",
              "      <td>13.66</td>\n",
              "      <td>249.4</td>\n",
              "      <td>80</td>\n",
              "      <td>11.22</td>\n",
              "      <td>7.4</td>\n",
              "      <td>2</td>\n",
              "      <td>2.00</td>\n",
              "      <td>4</td>\n",
              "      <td>False</td>\n",
              "    </tr>\n",
              "  </tbody>\n",
              "</table>\n",
              "</div>"
            ],
            "text/plain": [
              "       recordid  customer_id  account_length  area_code  international_plan  \\\n",
              "10683     10684   26014670.0             176        415               False   \n",
              "7709       7710   11731494.0             193        415               False   \n",
              "12293     12294   24521650.0              87        510               False   \n",
              "\n",
              "       total_intl_minutes  total_intl_calls  voice_mail_plan  \\\n",
              "10683                 8.7                 4            False   \n",
              "7709                 11.7                 3             True   \n",
              "12293                 7.4                 2            False   \n",
              "\n",
              "       number_vmail_messages  total_day_minutes  total_day_calls  \\\n",
              "10683                      0              169.5              151   \n",
              "7709                      31               71.2               58   \n",
              "12293                      0              256.2              105   \n",
              "\n",
              "       total_day_charge  total_eve_minutes  total_eve_calls  total_eve_charge  \\\n",
              "10683             28.82              112.9               84              9.60   \n",
              "7709              12.10              124.7              105             10.60   \n",
              "12293             43.55              160.7              102             13.66   \n",
              "\n",
              "       total_night_minutes  total_night_calls  total_night_charge  \\\n",
              "10683                 56.6                 99                2.55   \n",
              "7709                 155.5                108                7.00   \n",
              "12293                249.4                 80               11.22   \n",
              "\n",
              "       total_intl_minutes_2  total_intl_calls_2  total_intl_charge  \\\n",
              "10683                   8.7                   4               2.35   \n",
              "7709                   11.7                   3               3.16   \n",
              "12293                   7.4                   2               2.00   \n",
              "\n",
              "       number_customer_service_calls  churn  \n",
              "10683                              0  False  \n",
              "7709                               0  False  \n",
              "12293                              4  False  "
            ]
          },
          "metadata": {
            "tags": []
          },
          "execution_count": 8
        }
      ]
    },
    {
      "cell_type": "code",
      "metadata": {
        "id": "ZvX0x-Os-tSW",
        "colab_type": "code",
        "colab": {
          "base_uri": "https://localhost:8080/",
          "height": 34
        },
        "outputId": "36afca29-203d-46e5-e4d8-ab3f4d9de96a"
      },
      "source": [
        "#checking the dataset shape\n",
        "customers.shape"
      ],
      "execution_count": null,
      "outputs": [
        {
          "output_type": "execute_result",
          "data": {
            "text/plain": [
              "(12892, 23)"
            ]
          },
          "metadata": {
            "tags": []
          },
          "execution_count": 12
        }
      ]
    },
    {
      "cell_type": "markdown",
      "metadata": {
        "id": "NlVeTCc0EF1K",
        "colab_type": "text"
      },
      "source": [
        "The dataset has 12892 records and 23 variables"
      ]
    },
    {
      "cell_type": "code",
      "metadata": {
        "id": "28uV2_wE-_qI",
        "colab_type": "code",
        "colab": {}
      },
      "source": [
        "#Drop the 'recordid'and 'customer_id' columns in the dataset as we have no need for it\n",
        "customers.drop(columns=['recordid','customer_id'],inplace=True)"
      ],
      "execution_count": null,
      "outputs": []
    },
    {
      "cell_type": "code",
      "metadata": {
        "id": "1uTd0qZsFu33",
        "colab_type": "code",
        "colab": {
          "base_uri": "https://localhost:8080/",
          "height": 391
        },
        "outputId": "e2096d54-e513-4566-f0d2-44b61eaf9eb1"
      },
      "source": [
        "#preview variable datatypes\n",
        "customers.dtypes"
      ],
      "execution_count": null,
      "outputs": [
        {
          "output_type": "execute_result",
          "data": {
            "text/plain": [
              "account_length                     int64\n",
              "area_code                          int64\n",
              "international_plan                  bool\n",
              "total_intl_minutes               float64\n",
              "total_intl_calls                   int64\n",
              "voice_mail_plan                     bool\n",
              "number_vmail_messages              int64\n",
              "total_day_minutes                float64\n",
              "total_day_calls                    int64\n",
              "total_day_charge                 float64\n",
              "total_eve_minutes                float64\n",
              "total_eve_calls                    int64\n",
              "total_eve_charge                 float64\n",
              "total_night_minutes              float64\n",
              "total_night_calls                  int64\n",
              "total_night_charge               float64\n",
              "total_intl_minutes_2             float64\n",
              "total_intl_calls_2                 int64\n",
              "total_intl_charge                float64\n",
              "number_customer_service_calls      int64\n",
              "churn                               bool\n",
              "dtype: object"
            ]
          },
          "metadata": {
            "tags": []
          },
          "execution_count": 21
        }
      ]
    },
    {
      "cell_type": "markdown",
      "metadata": {
        "id": "FxFIOhhyGNY6",
        "colab_type": "text"
      },
      "source": [
        "The datasets variables is majorly numerical with exception to 'international_plan','voice_mail_plan' and 'churn' which are boolean"
      ]
    },
    {
      "cell_type": "code",
      "metadata": {
        "id": "rGzh6R8bGCsO",
        "colab_type": "code",
        "colab": {
          "base_uri": "https://localhost:8080/",
          "height": 34
        },
        "outputId": "556e65ab-50ee-4614-b942-0fd89a17af92"
      },
      "source": [
        "#check for duplicates\n",
        "customers.duplicated().sum()"
      ],
      "execution_count": null,
      "outputs": [
        {
          "output_type": "execute_result",
          "data": {
            "text/plain": [
              "7892"
            ]
          },
          "metadata": {
            "tags": []
          },
          "execution_count": 23
        }
      ]
    },
    {
      "cell_type": "markdown",
      "metadata": {
        "id": "kxg8Q6aZHmr9",
        "colab_type": "text"
      },
      "source": [
        "There are 7892 duplicates found. We will drop them"
      ]
    },
    {
      "cell_type": "code",
      "metadata": {
        "id": "l-eRcBPNHxnT",
        "colab_type": "code",
        "colab": {
          "base_uri": "https://localhost:8080/",
          "height": 34
        },
        "outputId": "7c33d8f5-9e30-4fae-eb11-17bad7bad6e6"
      },
      "source": [
        "#dropping duplicates \n",
        "customers=customers.drop_duplicates()\n",
        "customers.shape"
      ],
      "execution_count": null,
      "outputs": [
        {
          "output_type": "execute_result",
          "data": {
            "text/plain": [
              "(5000, 21)"
            ]
          },
          "metadata": {
            "tags": []
          },
          "execution_count": 24
        }
      ]
    },
    {
      "cell_type": "code",
      "metadata": {
        "id": "FWIvDCvdIIjY",
        "colab_type": "code",
        "colab": {
          "base_uri": "https://localhost:8080/",
          "height": 391
        },
        "outputId": "9e842118-8d03-45f2-b1ad-0a8fabfdb110"
      },
      "source": [
        "#check for missing values\n",
        "customers.isna().sum()"
      ],
      "execution_count": null,
      "outputs": [
        {
          "output_type": "execute_result",
          "data": {
            "text/plain": [
              "account_length                   0\n",
              "area_code                        0\n",
              "international_plan               0\n",
              "total_intl_minutes               0\n",
              "total_intl_calls                 0\n",
              "voice_mail_plan                  0\n",
              "number_vmail_messages            0\n",
              "total_day_minutes                0\n",
              "total_day_calls                  0\n",
              "total_day_charge                 0\n",
              "total_eve_minutes                0\n",
              "total_eve_calls                  0\n",
              "total_eve_charge                 0\n",
              "total_night_minutes              0\n",
              "total_night_calls                0\n",
              "total_night_charge               0\n",
              "total_intl_minutes_2             0\n",
              "total_intl_calls_2               0\n",
              "total_intl_charge                0\n",
              "number_customer_service_calls    0\n",
              "churn                            0\n",
              "dtype: int64"
            ]
          },
          "metadata": {
            "tags": []
          },
          "execution_count": 25
        }
      ]
    },
    {
      "cell_type": "markdown",
      "metadata": {
        "id": "Zwj3-vMMIdyi",
        "colab_type": "text"
      },
      "source": [
        "No missing values found"
      ]
    },
    {
      "cell_type": "code",
      "metadata": {
        "id": "T2Fo98zmJlZC",
        "colab_type": "code",
        "colab": {
          "base_uri": "https://localhost:8080/",
          "height": 1000
        },
        "outputId": "cdfef125-e17c-4b2c-d4a0-538995d05086"
      },
      "source": [
        "#checking for unique values in each variable\n",
        "columns = customers.columns\n",
        "\n",
        "for col in columns:\n",
        "    print(\"Variable:\", col)\n",
        "    print(\"Number of unique values:\", customers[col].nunique())\n",
        "    print(customers[col].unique())\n",
        "    print()"
      ],
      "execution_count": null,
      "outputs": [
        {
          "output_type": "stream",
          "text": [
            "Variable: account_length\n",
            "Number of unique values: 218\n",
            "[101 137 103  99 108 117  63  94 138 128 113 140 102  60  96 178  75 106\n",
            " 158 111  92  42  69  76  72 115  68  97  90  73  54 161 125 194 141  98\n",
            " 110  70  66  79  61  77 105 159  83  93 163 169  57  85 132 190  39  84\n",
            "  71 114 135  82  64 112 166 120 187 100  45  43  52  74  40  56 133 119\n",
            " 131 118 107 109 127  33 145  47  53 148  55 143 170  65 157  89  91 104\n",
            " 130  80 146  29  78 185 144  59 139  12 150 156  17 176  95 136 165 149\n",
            " 124  87  51 126  62  48  58  81  36 177  25 171 122  44 167  41 184  88\n",
            " 151 160 152  49  13 142   3  23  19 154 116 173  24  15  86 147  21 174\n",
            " 162 186  14   7   1  18  20  11 192 121 134  67 164 180  35 155  32 123\n",
            " 182 129  38  37  50  27 188 175   5  26   4  31 193 238  28 195 153 201\n",
            " 216 183 168 222 232 233  22  46  34   8 217   2 200 172  16  30 202 181\n",
            "  10   6 179 208 215 199 196 209 224 189 243 205   9 210 212 197 225 191\n",
            " 204 221]\n",
            "\n",
            "Variable: area_code\n",
            "Number of unique values: 3\n",
            "[510 408 415]\n",
            "\n",
            "Variable: international_plan\n",
            "Number of unique values: 2\n",
            "[False  True]\n",
            "\n",
            "Variable: total_intl_minutes\n",
            "Number of unique values: 170\n",
            "[10.6  9.5 13.7 15.7  7.7  6.9 12.9 11.1  9.9 11.9  9.  10.5  7.2  7.4\n",
            " 14.3 11.7 13.9  7.1 14.7  9.8  9.3 11.   5.2  9.2 10.1 12.3  9.1 12.6\n",
            " 10.  12.  10.7 13.4  8.3 13.6 12.5 10.2  4.4  8.6  6.8 11.8 16.2 13.2\n",
            "  8.  11.4 12.4 10.4  7.5 12.8 18.9  7.6  0.  11.3 13.8  7.   9.6  8.8\n",
            "  7.3 15.1  7.9 11.6  6.1  8.7 13.3 10.3  5.7 10.9  7.8  5.6 13.5  9.7\n",
            " 14.8  8.9  9.4  8.5 12.7 15.4  5.4 14.   8.2  6.6 11.5 12.1 13.1 11.2\n",
            "  8.4 14.9  6.   6.3  4.5  8.1  6.2  3.9  4.6 12.2 13.   6.7 15.6 14.2\n",
            " 18.7 10.8  5.8 15.   5.9  4.3  5.5 16.8 14.5  4.8  5.3  4.7 16.1 14.1\n",
            " 15.2 15.3 16.5 16.3  3.1  5.1  6.5  3.7  3.8 17.2  4.2  0.4 19.3 14.6\n",
            " 19.2  6.4 16.6  2.2 15.9  5.  14.4 15.5  4.9 19.7 16.  15.8 17.8  3.4\n",
            " 18.5  3.5  4.1 16.4  4.   1.1  2.  17.7 20.  17.6  2.7 18.  17.5 18.2\n",
            "  3.6 16.7  1.3 16.9 17.  17.1 17.9 17.3 18.4  2.9  3.3  2.6 18.3  2.1\n",
            "  2.4  2.5]\n",
            "\n",
            "Variable: total_intl_calls\n",
            "Number of unique values: 21\n",
            "[ 3  7  6  2  4  5  1  9  8 13  0 12 10 19 16 11 15 18 17 14 20]\n",
            "\n",
            "Variable: voice_mail_plan\n",
            "Number of unique values: 2\n",
            "[False  True]\n",
            "\n",
            "Variable: number_vmail_messages\n",
            "Number of unique values: 48\n",
            "[ 0 29 32 43 39 22 25 35 31 38 41  6 37 30 40 33 36 12 21 46 27 20 18 24\n",
            " 28 34 15 26 45 49 19 17 16 14 23 42 10 47 48 52 44 51 11  8  4 13 50  9]\n",
            "\n",
            "Variable: total_day_minutes\n",
            "Number of unique values: 1961\n",
            "[ 70.9 223.6 294.7 ... 224.1 124.9 321.1]\n",
            "\n",
            "Variable: total_day_calls\n",
            "Number of unique values: 123\n",
            "[123  86  95  78  85 124  97 117 100  77 109  93  66 105 121 142  88  99\n",
            " 101 111  94 110 125 106  74 131 112 104  76 113 122 127  65  91  48 120\n",
            " 102 103  81 108  83  56 118  75  57 132 114  92 126  98 119  87  82  96\n",
            " 107  90  64 133  89 115 147  58  72  80  53 128 130 149  79  68 143 141\n",
            "  61 116 148  84  62  60  51  73 135 137 151 136 134  50  71  70 129  52\n",
            " 138  69  59  67 144  63  47  34  39 156 157 146  44  46 140 152 139 160\n",
            "  49 145  55 158 163  54  36  40 150 165  30  42   0  45  35]\n",
            "\n",
            "Variable: total_day_charge\n",
            "Number of unique values: 1961\n",
            "[12.05 38.01 50.1  ... 38.1  21.23 54.59]\n",
            "\n",
            "Variable: total_eve_minutes\n",
            "Number of unique values: 1879\n",
            "[211.9 244.8 237.3 ... 153.4 288.8 265.9]\n",
            "\n",
            "Variable: total_eve_calls\n",
            "Number of unique values: 126\n",
            "[ 73 139 105  88 101  68 125 112  46  89  90 116  97 107 100  81 108 104\n",
            " 106 120  71  70 131 128  91 109 126  75  87  78  94 127  62 103 110  96\n",
            " 136  67 148 117  95  98  92 111  99  63 119 123  93 102  86 121  56 118\n",
            " 114 133  76  79  65  85  72 113 115 132  84 143 130  83 124 142 150  74\n",
            " 129 138  61 122  80  77 134  82 151 147  58  69 141  66  55  64  47 144\n",
            " 169 149  53 140 152  54 154  60 135 145 155  51  52 137  38  57  44 146\n",
            "  49 164  59  48 168  42  37  12  50 157  45  36 156 153  43   0 159 170]\n",
            "\n",
            "Variable: total_eve_charge\n",
            "Number of unique values: 1659\n",
            "[18.01 20.81 20.17 ... 13.04 24.55 22.6 ]\n",
            "\n",
            "Variable: total_night_minutes\n",
            "Number of unique values: 1853\n",
            "[236.   94.2 300.3 ... 131.9 280.9 279.1]\n",
            "\n",
            "Variable: total_night_calls\n",
            "Number of unique values: 131\n",
            "[ 73  81 127  82 107  90 120 106  71  92 100  94 124 119  89 114  99  98\n",
            "  95 104 121  80 125  78 105  96 103 115  79 101 132  72  85 110  83  84\n",
            " 109 118 134 116  64 113  88 123 135  56  68 148  76  93  91  97 141 102\n",
            " 139 136 131  58 129 112  49  48 128 122  77 151 145 108 130 117  69  53\n",
            "  66  40  87  70  75 111 168 149 137 161 133  67 138  65  60  74 126  61\n",
            " 150 143 140 146 159 142 160  57  86 170 158  63  62  52 147 154  42  41\n",
            "  59  50  38  46 155  12  55 165  54  43  51   0 152  44 153 175 157 144\n",
            " 166  33 156  36 164]\n",
            "\n",
            "Variable: total_night_charge\n",
            "Number of unique values: 1028\n",
            "[10.62  4.24 13.51 ...  5.12  5.65 12.37]\n",
            "\n",
            "Variable: total_intl_minutes_2\n",
            "Number of unique values: 170\n",
            "[10.6  9.5 13.7 15.7  7.7  6.9 12.9 11.1  9.9 11.9  9.  10.5  7.2  7.4\n",
            " 14.3 11.7 13.9  7.1 14.7  9.8  9.3 11.   5.2  9.2 10.1 12.3  9.1 12.6\n",
            " 10.  12.  10.7 13.4  8.3 13.6 12.5 10.2  4.4  8.6  6.8 11.8 16.2 13.2\n",
            "  8.  11.4 12.4 10.4  7.5 12.8 18.9  7.6  0.  11.3 13.8  7.   9.6  8.8\n",
            "  7.3 15.1  7.9 11.6  6.1  8.7 13.3 10.3  5.7 10.9  7.8  5.6 13.5  9.7\n",
            " 14.8  8.9  9.4  8.5 12.7 15.4  5.4 14.   8.2  6.6 11.5 12.1 13.1 11.2\n",
            "  8.4 14.9  6.   6.3  4.5  8.1  6.2  3.9  4.6 12.2 13.   6.7 15.6 14.2\n",
            " 18.7 10.8  5.8 15.   5.9  4.3  5.5 16.8 14.5  4.8  5.3  4.7 16.1 14.1\n",
            " 15.2 15.3 16.5 16.3  3.1  5.1  6.5  3.7  3.8 17.2  4.2  0.4 19.3 14.6\n",
            " 19.2  6.4 16.6  2.2 15.9  5.  14.4 15.5  4.9 19.7 16.  15.8 17.8  3.4\n",
            " 18.5  3.5  4.1 16.4  4.   1.1  2.  17.7 20.  17.6  2.7 18.  17.5 18.2\n",
            "  3.6 16.7  1.3 16.9 17.  17.1 17.9 17.3 18.4  2.9  3.3  2.6 18.3  2.1\n",
            "  2.4  2.5]\n",
            "\n",
            "Variable: total_intl_calls_2\n",
            "Number of unique values: 21\n",
            "[ 3  7  6  2  4  5  1  9  8 13  0 12 10 19 16 11 15 18 17 14 20]\n",
            "\n",
            "Variable: total_intl_charge\n",
            "Number of unique values: 170\n",
            "[2.86 2.57 3.7  4.24 2.08 1.86 3.48 3.   2.67 3.21 2.43 2.84 1.94 2.\n",
            " 3.86 3.16 3.75 1.92 3.97 2.65 2.51 2.97 1.4  2.48 2.73 3.32 2.46 3.4\n",
            " 2.7  3.24 2.89 3.62 2.24 3.67 3.38 2.75 1.19 2.32 1.84 3.19 4.37 3.56\n",
            " 2.16 3.08 3.35 2.81 2.03 3.46 5.1  2.05 0.   3.05 3.73 1.89 2.59 2.38\n",
            " 1.97 4.08 2.13 3.13 1.65 2.35 3.59 2.78 1.54 2.94 2.11 1.51 3.65 2.62\n",
            " 4.   2.4  2.54 2.3  3.43 4.16 1.46 3.78 2.21 1.78 3.11 3.27 3.54 3.02\n",
            " 2.27 4.02 1.62 1.7  1.22 2.19 1.67 1.05 1.24 3.29 3.51 1.81 4.21 3.83\n",
            " 5.05 2.92 1.57 4.05 1.59 1.16 1.49 4.54 3.92 1.3  1.43 1.27 4.35 3.81\n",
            " 4.1  4.13 4.46 4.4  0.84 1.38 1.76 1.   1.03 4.64 1.13 0.11 5.21 3.94\n",
            " 5.18 1.73 4.48 0.59 4.29 1.35 3.89 4.19 1.32 5.32 4.32 4.27 4.81 0.92\n",
            " 5.   0.95 1.11 4.43 1.08 0.3  0.54 4.78 5.4  4.75 0.73 4.86 4.73 4.91\n",
            " 0.97 4.51 0.35 4.56 4.59 4.62 4.83 4.67 4.97 0.78 0.89 0.7  4.94 0.57\n",
            " 0.65 0.68]\n",
            "\n",
            "Variable: number_customer_service_calls\n",
            "Number of unique values: 10\n",
            "[3 0 1 2 4 5 6 7 9 8]\n",
            "\n",
            "Variable: churn\n",
            "Number of unique values: 2\n",
            "[False  True]\n",
            "\n"
          ],
          "name": "stdout"
        }
      ]
    },
    {
      "cell_type": "markdown",
      "metadata": {
        "id": "7o0SAZAgNzv_",
        "colab_type": "text"
      },
      "source": [
        " There appears to be duplicated columns between 'total_intl_minutes' and 'total_intl_minutes_2', and 'total_intl_calls' and 'total_intl_calls_2'. "
      ]
    },
    {
      "cell_type": "code",
      "metadata": {
        "id": "QSnaMm2_Lzeg",
        "colab_type": "code",
        "colab": {
          "base_uri": "https://localhost:8080/",
          "height": 419
        },
        "outputId": "cdd58b7a-adc1-401a-c9fc-dc98e4c8612b"
      },
      "source": [
        "#previewing the posibly duplicated columns\n",
        "customers[['total_intl_minutes', 'total_intl_calls', 'total_intl_minutes_2', 'total_intl_calls_2']]"
      ],
      "execution_count": null,
      "outputs": [
        {
          "output_type": "execute_result",
          "data": {
            "text/html": [
              "<div>\n",
              "<style scoped>\n",
              "    .dataframe tbody tr th:only-of-type {\n",
              "        vertical-align: middle;\n",
              "    }\n",
              "\n",
              "    .dataframe tbody tr th {\n",
              "        vertical-align: top;\n",
              "    }\n",
              "\n",
              "    .dataframe thead th {\n",
              "        text-align: right;\n",
              "    }\n",
              "</style>\n",
              "<table border=\"1\" class=\"dataframe\">\n",
              "  <thead>\n",
              "    <tr style=\"text-align: right;\">\n",
              "      <th></th>\n",
              "      <th>total_intl_minutes</th>\n",
              "      <th>total_intl_calls</th>\n",
              "      <th>total_intl_minutes_2</th>\n",
              "      <th>total_intl_calls_2</th>\n",
              "    </tr>\n",
              "  </thead>\n",
              "  <tbody>\n",
              "    <tr>\n",
              "      <th>0</th>\n",
              "      <td>10.6</td>\n",
              "      <td>3</td>\n",
              "      <td>10.6</td>\n",
              "      <td>3</td>\n",
              "    </tr>\n",
              "    <tr>\n",
              "      <th>1</th>\n",
              "      <td>9.5</td>\n",
              "      <td>7</td>\n",
              "      <td>9.5</td>\n",
              "      <td>7</td>\n",
              "    </tr>\n",
              "    <tr>\n",
              "      <th>2</th>\n",
              "      <td>13.7</td>\n",
              "      <td>6</td>\n",
              "      <td>13.7</td>\n",
              "      <td>6</td>\n",
              "    </tr>\n",
              "    <tr>\n",
              "      <th>3</th>\n",
              "      <td>15.7</td>\n",
              "      <td>2</td>\n",
              "      <td>15.7</td>\n",
              "      <td>2</td>\n",
              "    </tr>\n",
              "    <tr>\n",
              "      <th>4</th>\n",
              "      <td>7.7</td>\n",
              "      <td>4</td>\n",
              "      <td>7.7</td>\n",
              "      <td>4</td>\n",
              "    </tr>\n",
              "    <tr>\n",
              "      <th>...</th>\n",
              "      <td>...</td>\n",
              "      <td>...</td>\n",
              "      <td>...</td>\n",
              "      <td>...</td>\n",
              "    </tr>\n",
              "    <tr>\n",
              "      <th>4995</th>\n",
              "      <td>9.9</td>\n",
              "      <td>6</td>\n",
              "      <td>9.9</td>\n",
              "      <td>6</td>\n",
              "    </tr>\n",
              "    <tr>\n",
              "      <th>4996</th>\n",
              "      <td>9.6</td>\n",
              "      <td>4</td>\n",
              "      <td>9.6</td>\n",
              "      <td>4</td>\n",
              "    </tr>\n",
              "    <tr>\n",
              "      <th>4997</th>\n",
              "      <td>14.1</td>\n",
              "      <td>6</td>\n",
              "      <td>14.1</td>\n",
              "      <td>6</td>\n",
              "    </tr>\n",
              "    <tr>\n",
              "      <th>4998</th>\n",
              "      <td>5.0</td>\n",
              "      <td>10</td>\n",
              "      <td>5.0</td>\n",
              "      <td>10</td>\n",
              "    </tr>\n",
              "    <tr>\n",
              "      <th>4999</th>\n",
              "      <td>13.7</td>\n",
              "      <td>4</td>\n",
              "      <td>13.7</td>\n",
              "      <td>4</td>\n",
              "    </tr>\n",
              "  </tbody>\n",
              "</table>\n",
              "<p>5000 rows × 4 columns</p>\n",
              "</div>"
            ],
            "text/plain": [
              "      total_intl_minutes  total_intl_calls  total_intl_minutes_2  \\\n",
              "0                   10.6                 3                  10.6   \n",
              "1                    9.5                 7                   9.5   \n",
              "2                   13.7                 6                  13.7   \n",
              "3                   15.7                 2                  15.7   \n",
              "4                    7.7                 4                   7.7   \n",
              "...                  ...               ...                   ...   \n",
              "4995                 9.9                 6                   9.9   \n",
              "4996                 9.6                 4                   9.6   \n",
              "4997                14.1                 6                  14.1   \n",
              "4998                 5.0                10                   5.0   \n",
              "4999                13.7                 4                  13.7   \n",
              "\n",
              "      total_intl_calls_2  \n",
              "0                      3  \n",
              "1                      7  \n",
              "2                      6  \n",
              "3                      2  \n",
              "4                      4  \n",
              "...                  ...  \n",
              "4995                   6  \n",
              "4996                   4  \n",
              "4997                   6  \n",
              "4998                  10  \n",
              "4999                   4  \n",
              "\n",
              "[5000 rows x 4 columns]"
            ]
          },
          "metadata": {
            "tags": []
          },
          "execution_count": 29
        }
      ]
    },
    {
      "cell_type": "markdown",
      "metadata": {
        "id": "kgc59YHRPJvA",
        "colab_type": "text"
      },
      "source": [
        "The last 2 columns appears to be copies of the first 2 columns"
      ]
    },
    {
      "cell_type": "code",
      "metadata": {
        "id": "EH4a83XqPuPk",
        "colab_type": "code",
        "colab": {
          "base_uri": "https://localhost:8080/",
          "height": 391
        },
        "outputId": "8c961cad-ca21-4f72-dca5-6aa95895af7f"
      },
      "source": [
        "# selecting the total number of records where the values of 'total_intl_minutes' are equal to the values of \n",
        "# 'total_intl_minutes_2', AND the values of 'total_intl_calls' are equal to the values of 'total_intl_calls_2'\n",
        "customers[(customers['total_intl_minutes'] == customers['total_intl_minutes_2']) & (customers['total_intl_calls'] == customers['total_intl_calls_2'])].count()"
      ],
      "execution_count": null,
      "outputs": [
        {
          "output_type": "execute_result",
          "data": {
            "text/plain": [
              "account_length                   5000\n",
              "area_code                        5000\n",
              "international_plan               5000\n",
              "total_intl_minutes               5000\n",
              "total_intl_calls                 5000\n",
              "voice_mail_plan                  5000\n",
              "number_vmail_messages            5000\n",
              "total_day_minutes                5000\n",
              "total_day_calls                  5000\n",
              "total_day_charge                 5000\n",
              "total_eve_minutes                5000\n",
              "total_eve_calls                  5000\n",
              "total_eve_charge                 5000\n",
              "total_night_minutes              5000\n",
              "total_night_calls                5000\n",
              "total_night_charge               5000\n",
              "total_intl_minutes_2             5000\n",
              "total_intl_calls_2               5000\n",
              "total_intl_charge                5000\n",
              "number_customer_service_calls    5000\n",
              "churn                            5000\n",
              "dtype: int64"
            ]
          },
          "metadata": {
            "tags": []
          },
          "execution_count": 30
        }
      ]
    },
    {
      "cell_type": "markdown",
      "metadata": {
        "id": "_C3PtEfJQR4l",
        "colab_type": "text"
      },
      "source": [
        "We can confirm that the columns are duplicates and replicate them"
      ]
    },
    {
      "cell_type": "code",
      "metadata": {
        "id": "8u6qeglNQe3L",
        "colab_type": "code",
        "colab": {
          "base_uri": "https://localhost:8080/",
          "height": 34
        },
        "outputId": "d43a6c16-fa6e-4b79-b6d8-3fca833df646"
      },
      "source": [
        "customers=customers.drop(columns=['total_intl_minutes_2','total_intl_calls_2'])\n",
        "customers.shape"
      ],
      "execution_count": null,
      "outputs": [
        {
          "output_type": "execute_result",
          "data": {
            "text/plain": [
              "(5000, 19)"
            ]
          },
          "metadata": {
            "tags": []
          },
          "execution_count": 31
        }
      ]
    },
    {
      "cell_type": "markdown",
      "metadata": {
        "id": "cjemW2cJRuDe",
        "colab_type": "text"
      },
      "source": [
        "Another anomaly noted is that where there are records of 'total_intl_minutes', 'total_int_calls', and 'total_intl_charge' when 'international_plan' is False."
      ]
    },
    {
      "cell_type": "code",
      "metadata": {
        "id": "AZLssY4sRtcq",
        "colab_type": "code",
        "colab": {
          "base_uri": "https://localhost:8080/",
          "height": 439
        },
        "outputId": "8ad61a6f-14e9-4fdd-d7c9-e950393d3a2f"
      },
      "source": [
        "customers[(customers['international_plan'] == False) & ((customers['total_intl_minutes'] > 0) | (customers['total_intl_calls'] > 0) | customers['total_intl_charge'] > 0)]"
      ],
      "execution_count": null,
      "outputs": [
        {
          "output_type": "execute_result",
          "data": {
            "text/html": [
              "<div>\n",
              "<style scoped>\n",
              "    .dataframe tbody tr th:only-of-type {\n",
              "        vertical-align: middle;\n",
              "    }\n",
              "\n",
              "    .dataframe tbody tr th {\n",
              "        vertical-align: top;\n",
              "    }\n",
              "\n",
              "    .dataframe thead th {\n",
              "        text-align: right;\n",
              "    }\n",
              "</style>\n",
              "<table border=\"1\" class=\"dataframe\">\n",
              "  <thead>\n",
              "    <tr style=\"text-align: right;\">\n",
              "      <th></th>\n",
              "      <th>account_length</th>\n",
              "      <th>area_code</th>\n",
              "      <th>international_plan</th>\n",
              "      <th>total_intl_minutes</th>\n",
              "      <th>total_intl_calls</th>\n",
              "      <th>voice_mail_plan</th>\n",
              "      <th>number_vmail_messages</th>\n",
              "      <th>total_day_minutes</th>\n",
              "      <th>total_day_calls</th>\n",
              "      <th>total_day_charge</th>\n",
              "      <th>total_eve_minutes</th>\n",
              "      <th>total_eve_calls</th>\n",
              "      <th>total_eve_charge</th>\n",
              "      <th>total_night_minutes</th>\n",
              "      <th>total_night_calls</th>\n",
              "      <th>total_night_charge</th>\n",
              "      <th>total_intl_charge</th>\n",
              "      <th>number_customer_service_calls</th>\n",
              "      <th>churn</th>\n",
              "    </tr>\n",
              "  </thead>\n",
              "  <tbody>\n",
              "    <tr>\n",
              "      <th>0</th>\n",
              "      <td>101</td>\n",
              "      <td>510</td>\n",
              "      <td>False</td>\n",
              "      <td>10.6</td>\n",
              "      <td>3</td>\n",
              "      <td>False</td>\n",
              "      <td>0</td>\n",
              "      <td>70.9</td>\n",
              "      <td>123</td>\n",
              "      <td>12.05</td>\n",
              "      <td>211.9</td>\n",
              "      <td>73</td>\n",
              "      <td>18.01</td>\n",
              "      <td>236.0</td>\n",
              "      <td>73</td>\n",
              "      <td>10.62</td>\n",
              "      <td>2.86</td>\n",
              "      <td>3</td>\n",
              "      <td>False</td>\n",
              "    </tr>\n",
              "    <tr>\n",
              "      <th>1</th>\n",
              "      <td>137</td>\n",
              "      <td>510</td>\n",
              "      <td>False</td>\n",
              "      <td>9.5</td>\n",
              "      <td>7</td>\n",
              "      <td>False</td>\n",
              "      <td>0</td>\n",
              "      <td>223.6</td>\n",
              "      <td>86</td>\n",
              "      <td>38.01</td>\n",
              "      <td>244.8</td>\n",
              "      <td>139</td>\n",
              "      <td>20.81</td>\n",
              "      <td>94.2</td>\n",
              "      <td>81</td>\n",
              "      <td>4.24</td>\n",
              "      <td>2.57</td>\n",
              "      <td>0</td>\n",
              "      <td>False</td>\n",
              "    </tr>\n",
              "    <tr>\n",
              "      <th>2</th>\n",
              "      <td>103</td>\n",
              "      <td>408</td>\n",
              "      <td>False</td>\n",
              "      <td>13.7</td>\n",
              "      <td>6</td>\n",
              "      <td>True</td>\n",
              "      <td>29</td>\n",
              "      <td>294.7</td>\n",
              "      <td>95</td>\n",
              "      <td>50.10</td>\n",
              "      <td>237.3</td>\n",
              "      <td>105</td>\n",
              "      <td>20.17</td>\n",
              "      <td>300.3</td>\n",
              "      <td>127</td>\n",
              "      <td>13.51</td>\n",
              "      <td>3.70</td>\n",
              "      <td>1</td>\n",
              "      <td>False</td>\n",
              "    </tr>\n",
              "    <tr>\n",
              "      <th>3</th>\n",
              "      <td>99</td>\n",
              "      <td>415</td>\n",
              "      <td>False</td>\n",
              "      <td>15.7</td>\n",
              "      <td>2</td>\n",
              "      <td>False</td>\n",
              "      <td>0</td>\n",
              "      <td>216.8</td>\n",
              "      <td>123</td>\n",
              "      <td>36.86</td>\n",
              "      <td>126.4</td>\n",
              "      <td>88</td>\n",
              "      <td>10.74</td>\n",
              "      <td>220.6</td>\n",
              "      <td>82</td>\n",
              "      <td>9.93</td>\n",
              "      <td>4.24</td>\n",
              "      <td>1</td>\n",
              "      <td>False</td>\n",
              "    </tr>\n",
              "    <tr>\n",
              "      <th>4</th>\n",
              "      <td>108</td>\n",
              "      <td>415</td>\n",
              "      <td>False</td>\n",
              "      <td>7.7</td>\n",
              "      <td>4</td>\n",
              "      <td>False</td>\n",
              "      <td>0</td>\n",
              "      <td>197.4</td>\n",
              "      <td>78</td>\n",
              "      <td>33.56</td>\n",
              "      <td>124.0</td>\n",
              "      <td>101</td>\n",
              "      <td>10.54</td>\n",
              "      <td>204.5</td>\n",
              "      <td>107</td>\n",
              "      <td>9.20</td>\n",
              "      <td>2.08</td>\n",
              "      <td>2</td>\n",
              "      <td>False</td>\n",
              "    </tr>\n",
              "    <tr>\n",
              "      <th>...</th>\n",
              "      <td>...</td>\n",
              "      <td>...</td>\n",
              "      <td>...</td>\n",
              "      <td>...</td>\n",
              "      <td>...</td>\n",
              "      <td>...</td>\n",
              "      <td>...</td>\n",
              "      <td>...</td>\n",
              "      <td>...</td>\n",
              "      <td>...</td>\n",
              "      <td>...</td>\n",
              "      <td>...</td>\n",
              "      <td>...</td>\n",
              "      <td>...</td>\n",
              "      <td>...</td>\n",
              "      <td>...</td>\n",
              "      <td>...</td>\n",
              "      <td>...</td>\n",
              "      <td>...</td>\n",
              "    </tr>\n",
              "    <tr>\n",
              "      <th>4994</th>\n",
              "      <td>79</td>\n",
              "      <td>415</td>\n",
              "      <td>False</td>\n",
              "      <td>11.8</td>\n",
              "      <td>5</td>\n",
              "      <td>False</td>\n",
              "      <td>0</td>\n",
              "      <td>134.7</td>\n",
              "      <td>98</td>\n",
              "      <td>22.90</td>\n",
              "      <td>189.7</td>\n",
              "      <td>68</td>\n",
              "      <td>16.12</td>\n",
              "      <td>221.4</td>\n",
              "      <td>128</td>\n",
              "      <td>9.96</td>\n",
              "      <td>3.19</td>\n",
              "      <td>2</td>\n",
              "      <td>False</td>\n",
              "    </tr>\n",
              "    <tr>\n",
              "      <th>4995</th>\n",
              "      <td>192</td>\n",
              "      <td>415</td>\n",
              "      <td>False</td>\n",
              "      <td>9.9</td>\n",
              "      <td>6</td>\n",
              "      <td>True</td>\n",
              "      <td>36</td>\n",
              "      <td>156.2</td>\n",
              "      <td>77</td>\n",
              "      <td>26.55</td>\n",
              "      <td>215.5</td>\n",
              "      <td>126</td>\n",
              "      <td>18.32</td>\n",
              "      <td>279.1</td>\n",
              "      <td>83</td>\n",
              "      <td>12.56</td>\n",
              "      <td>2.67</td>\n",
              "      <td>2</td>\n",
              "      <td>False</td>\n",
              "    </tr>\n",
              "    <tr>\n",
              "      <th>4996</th>\n",
              "      <td>68</td>\n",
              "      <td>415</td>\n",
              "      <td>False</td>\n",
              "      <td>9.6</td>\n",
              "      <td>4</td>\n",
              "      <td>False</td>\n",
              "      <td>0</td>\n",
              "      <td>231.1</td>\n",
              "      <td>57</td>\n",
              "      <td>39.29</td>\n",
              "      <td>153.4</td>\n",
              "      <td>55</td>\n",
              "      <td>13.04</td>\n",
              "      <td>191.3</td>\n",
              "      <td>123</td>\n",
              "      <td>8.61</td>\n",
              "      <td>2.59</td>\n",
              "      <td>3</td>\n",
              "      <td>False</td>\n",
              "    </tr>\n",
              "    <tr>\n",
              "      <th>4997</th>\n",
              "      <td>28</td>\n",
              "      <td>510</td>\n",
              "      <td>False</td>\n",
              "      <td>14.1</td>\n",
              "      <td>6</td>\n",
              "      <td>False</td>\n",
              "      <td>0</td>\n",
              "      <td>180.8</td>\n",
              "      <td>109</td>\n",
              "      <td>30.74</td>\n",
              "      <td>288.8</td>\n",
              "      <td>58</td>\n",
              "      <td>24.55</td>\n",
              "      <td>191.9</td>\n",
              "      <td>91</td>\n",
              "      <td>8.64</td>\n",
              "      <td>3.81</td>\n",
              "      <td>2</td>\n",
              "      <td>False</td>\n",
              "    </tr>\n",
              "    <tr>\n",
              "      <th>4999</th>\n",
              "      <td>74</td>\n",
              "      <td>415</td>\n",
              "      <td>False</td>\n",
              "      <td>13.7</td>\n",
              "      <td>4</td>\n",
              "      <td>True</td>\n",
              "      <td>25</td>\n",
              "      <td>234.4</td>\n",
              "      <td>113</td>\n",
              "      <td>39.85</td>\n",
              "      <td>265.9</td>\n",
              "      <td>82</td>\n",
              "      <td>22.60</td>\n",
              "      <td>241.4</td>\n",
              "      <td>77</td>\n",
              "      <td>10.86</td>\n",
              "      <td>3.70</td>\n",
              "      <td>0</td>\n",
              "      <td>False</td>\n",
              "    </tr>\n",
              "  </tbody>\n",
              "</table>\n",
              "<p>4504 rows × 19 columns</p>\n",
              "</div>"
            ],
            "text/plain": [
              "      account_length  area_code  international_plan  total_intl_minutes  \\\n",
              "0                101        510               False                10.6   \n",
              "1                137        510               False                 9.5   \n",
              "2                103        408               False                13.7   \n",
              "3                 99        415               False                15.7   \n",
              "4                108        415               False                 7.7   \n",
              "...              ...        ...                 ...                 ...   \n",
              "4994              79        415               False                11.8   \n",
              "4995             192        415               False                 9.9   \n",
              "4996              68        415               False                 9.6   \n",
              "4997              28        510               False                14.1   \n",
              "4999              74        415               False                13.7   \n",
              "\n",
              "      total_intl_calls  voice_mail_plan  number_vmail_messages  \\\n",
              "0                    3            False                      0   \n",
              "1                    7            False                      0   \n",
              "2                    6             True                     29   \n",
              "3                    2            False                      0   \n",
              "4                    4            False                      0   \n",
              "...                ...              ...                    ...   \n",
              "4994                 5            False                      0   \n",
              "4995                 6             True                     36   \n",
              "4996                 4            False                      0   \n",
              "4997                 6            False                      0   \n",
              "4999                 4             True                     25   \n",
              "\n",
              "      total_day_minutes  total_day_calls  total_day_charge  total_eve_minutes  \\\n",
              "0                  70.9              123             12.05              211.9   \n",
              "1                 223.6               86             38.01              244.8   \n",
              "2                 294.7               95             50.10              237.3   \n",
              "3                 216.8              123             36.86              126.4   \n",
              "4                 197.4               78             33.56              124.0   \n",
              "...                 ...              ...               ...                ...   \n",
              "4994              134.7               98             22.90              189.7   \n",
              "4995              156.2               77             26.55              215.5   \n",
              "4996              231.1               57             39.29              153.4   \n",
              "4997              180.8              109             30.74              288.8   \n",
              "4999              234.4              113             39.85              265.9   \n",
              "\n",
              "      total_eve_calls  total_eve_charge  total_night_minutes  \\\n",
              "0                  73             18.01                236.0   \n",
              "1                 139             20.81                 94.2   \n",
              "2                 105             20.17                300.3   \n",
              "3                  88             10.74                220.6   \n",
              "4                 101             10.54                204.5   \n",
              "...               ...               ...                  ...   \n",
              "4994               68             16.12                221.4   \n",
              "4995              126             18.32                279.1   \n",
              "4996               55             13.04                191.3   \n",
              "4997               58             24.55                191.9   \n",
              "4999               82             22.60                241.4   \n",
              "\n",
              "      total_night_calls  total_night_charge  total_intl_charge  \\\n",
              "0                    73               10.62               2.86   \n",
              "1                    81                4.24               2.57   \n",
              "2                   127               13.51               3.70   \n",
              "3                    82                9.93               4.24   \n",
              "4                   107                9.20               2.08   \n",
              "...                 ...                 ...                ...   \n",
              "4994                128                9.96               3.19   \n",
              "4995                 83               12.56               2.67   \n",
              "4996                123                8.61               2.59   \n",
              "4997                 91                8.64               3.81   \n",
              "4999                 77               10.86               3.70   \n",
              "\n",
              "      number_customer_service_calls  churn  \n",
              "0                                 3  False  \n",
              "1                                 0  False  \n",
              "2                                 1  False  \n",
              "3                                 1  False  \n",
              "4                                 2  False  \n",
              "...                             ...    ...  \n",
              "4994                              2  False  \n",
              "4995                              2  False  \n",
              "4996                              3  False  \n",
              "4997                              2  False  \n",
              "4999                              0  False  \n",
              "\n",
              "[4504 rows x 19 columns]"
            ]
          },
          "metadata": {
            "tags": []
          },
          "execution_count": 32
        }
      ]
    },
    {
      "cell_type": "code",
      "metadata": {
        "id": "988Kzkk1T0RV",
        "colab_type": "code",
        "colab": {
          "base_uri": "https://localhost:8080/",
          "height": 68
        },
        "outputId": "5e2ae7b3-8ec3-495c-9297-c444f6ebd748"
      },
      "source": [
        "customers.international_plan.value_counts()"
      ],
      "execution_count": null,
      "outputs": [
        {
          "output_type": "execute_result",
          "data": {
            "text/plain": [
              "False    4527\n",
              "True      473\n",
              "Name: international_plan, dtype: int64"
            ]
          },
          "metadata": {
            "tags": []
          },
          "execution_count": 34
        }
      ]
    },
    {
      "cell_type": "markdown",
      "metadata": {
        "id": "Fa-o6t_BUEwJ",
        "colab_type": "text"
      },
      "source": [
        "There are 4527 false values for international_plan and 473 true values"
      ]
    },
    {
      "cell_type": "markdown",
      "metadata": {
        "id": "IlTI8OZlUghw",
        "colab_type": "text"
      },
      "source": [
        "Removing these invalid variables would result in a huge loss of data. We will therefore leave them as is, but flag them for future work."
      ]
    },
    {
      "cell_type": "code",
      "metadata": {
        "id": "vMdu63ZWUZGh",
        "colab_type": "code",
        "colab": {
          "base_uri": "https://localhost:8080/",
          "height": 69
        },
        "outputId": "d4ece6f4-0caa-4dee-c36c-d9dc993999ba"
      },
      "source": [
        "#checking to see that there are no 'number_vmail_messages' when 'voice_mail_plan' is set to False.\n",
        "customers[(customers['voice_mail_plan'] == False) & (customers['number_vmail_messages'] > 0)]"
      ],
      "execution_count": null,
      "outputs": [
        {
          "output_type": "execute_result",
          "data": {
            "text/html": [
              "<div>\n",
              "<style scoped>\n",
              "    .dataframe tbody tr th:only-of-type {\n",
              "        vertical-align: middle;\n",
              "    }\n",
              "\n",
              "    .dataframe tbody tr th {\n",
              "        vertical-align: top;\n",
              "    }\n",
              "\n",
              "    .dataframe thead th {\n",
              "        text-align: right;\n",
              "    }\n",
              "</style>\n",
              "<table border=\"1\" class=\"dataframe\">\n",
              "  <thead>\n",
              "    <tr style=\"text-align: right;\">\n",
              "      <th></th>\n",
              "      <th>account_length</th>\n",
              "      <th>area_code</th>\n",
              "      <th>international_plan</th>\n",
              "      <th>total_intl_minutes</th>\n",
              "      <th>total_intl_calls</th>\n",
              "      <th>voice_mail_plan</th>\n",
              "      <th>number_vmail_messages</th>\n",
              "      <th>total_day_minutes</th>\n",
              "      <th>total_day_calls</th>\n",
              "      <th>total_day_charge</th>\n",
              "      <th>total_eve_minutes</th>\n",
              "      <th>total_eve_calls</th>\n",
              "      <th>total_eve_charge</th>\n",
              "      <th>total_night_minutes</th>\n",
              "      <th>total_night_calls</th>\n",
              "      <th>total_night_charge</th>\n",
              "      <th>total_intl_charge</th>\n",
              "      <th>number_customer_service_calls</th>\n",
              "      <th>churn</th>\n",
              "    </tr>\n",
              "  </thead>\n",
              "  <tbody>\n",
              "  </tbody>\n",
              "</table>\n",
              "</div>"
            ],
            "text/plain": [
              "Empty DataFrame\n",
              "Columns: [account_length, area_code, international_plan, total_intl_minutes, total_intl_calls, voice_mail_plan, number_vmail_messages, total_day_minutes, total_day_calls, total_day_charge, total_eve_minutes, total_eve_calls, total_eve_charge, total_night_minutes, total_night_calls, total_night_charge, total_intl_charge, number_customer_service_calls, churn]\n",
              "Index: []"
            ]
          },
          "metadata": {
            "tags": []
          },
          "execution_count": 36
        }
      ]
    },
    {
      "cell_type": "markdown",
      "metadata": {
        "id": "14P5CaT3XNd0",
        "colab_type": "text"
      },
      "source": [
        "There are no  number vmail messages when voicemail plan is false"
      ]
    },
    {
      "cell_type": "code",
      "metadata": {
        "id": "FZdx3cYFXaYs",
        "colab_type": "code",
        "colab": {}
      },
      "source": [
        "#dropping the voice mail plan column\n",
        "customers.drop(columns=['voice_mail_plan'],inplace=True)"
      ],
      "execution_count": null,
      "outputs": []
    },
    {
      "cell_type": "code",
      "metadata": {
        "id": "NSR2cqYdY94_",
        "colab_type": "code",
        "colab": {
          "base_uri": "https://localhost:8080/",
          "height": 340
        },
        "outputId": "b790521e-d82e-4e6d-cf54-f0c69cbcbdb0"
      },
      "source": [
        "customers.dtypes"
      ],
      "execution_count": null,
      "outputs": [
        {
          "output_type": "execute_result",
          "data": {
            "text/plain": [
              "account_length                     int64\n",
              "area_code                          int64\n",
              "international_plan                  bool\n",
              "total_intl_minutes               float64\n",
              "total_intl_calls                   int64\n",
              "number_vmail_messages              int64\n",
              "total_day_minutes                float64\n",
              "total_day_calls                    int64\n",
              "total_day_charge                 float64\n",
              "total_eve_minutes                float64\n",
              "total_eve_calls                    int64\n",
              "total_eve_charge                 float64\n",
              "total_night_minutes              float64\n",
              "total_night_calls                  int64\n",
              "total_night_charge               float64\n",
              "total_intl_charge                float64\n",
              "number_customer_service_calls      int64\n",
              "churn                               bool\n",
              "dtype: object"
            ]
          },
          "metadata": {
            "tags": []
          },
          "execution_count": 40
        }
      ]
    },
    {
      "cell_type": "code",
      "metadata": {
        "id": "2UOBoFxAZYPx",
        "colab_type": "code",
        "colab": {
          "base_uri": "https://localhost:8080/",
          "height": 484
        },
        "outputId": "39d59a5b-9f47-4d28-9a80-e39165b4712b"
      },
      "source": [
        "# looking for outliers\n",
        "num_cols = customers.columns.to_list()\n",
        "num_cols.remove('international_plan')\n",
        "num_cols.remove('churn')\n",
        "\n",
        "plt.figure(figsize = (14, 6))\n",
        "customers.boxplot(num_cols)\n",
        "plt.xticks(rotation = 45)\n",
        "plt.show()"
      ],
      "execution_count": null,
      "outputs": [
        {
          "output_type": "display_data",
          "data": {
            "image/png": "[encoded data removed]",
            "text/plain": [
              "<Figure size 1008x432 with 1 Axes>"
            ]
          },
          "metadata": {
            "tags": [],
            "needs_background": "light"
          }
        }
      ]
    },
    {
      "cell_type": "markdown",
      "metadata": {
        "id": "2PUgA3N_aB1t",
        "colab_type": "text"
      },
      "source": [
        "All remaining variables have outliers which we will not drop"
      ]
    },
    {
      "cell_type": "code",
      "metadata": {
        "id": "ZSwamtDcaIMh",
        "colab_type": "code",
        "colab": {
          "base_uri": "https://localhost:8080/",
          "height": 224
        },
        "outputId": "1537b8a7-cf26-4665-ab30-ea820a383b39"
      },
      "source": [
        "#saving our clean dataset to a new clean csv file\n",
        "customers.to_csv('call_center_clean.csv',index=False)\n",
        "n_customers=pd.read_csv('call_center_clean.csv')\n",
        "n_customers.head()"
      ],
      "execution_count": null,
      "outputs": [
        {
          "output_type": "execute_result",
          "data": {
            "text/html": [
              "<div>\n",
              "<style scoped>\n",
              "    .dataframe tbody tr th:only-of-type {\n",
              "        vertical-align: middle;\n",
              "    }\n",
              "\n",
              "    .dataframe tbody tr th {\n",
              "        vertical-align: top;\n",
              "    }\n",
              "\n",
              "    .dataframe thead th {\n",
              "        text-align: right;\n",
              "    }\n",
              "</style>\n",
              "<table border=\"1\" class=\"dataframe\">\n",
              "  <thead>\n",
              "    <tr style=\"text-align: right;\">\n",
              "      <th></th>\n",
              "      <th>account_length</th>\n",
              "      <th>area_code</th>\n",
              "      <th>international_plan</th>\n",
              "      <th>total_intl_minutes</th>\n",
              "      <th>total_intl_calls</th>\n",
              "      <th>number_vmail_messages</th>\n",
              "      <th>total_day_minutes</th>\n",
              "      <th>total_day_calls</th>\n",
              "      <th>total_day_charge</th>\n",
              "      <th>total_eve_minutes</th>\n",
              "      <th>total_eve_calls</th>\n",
              "      <th>total_eve_charge</th>\n",
              "      <th>total_night_minutes</th>\n",
              "      <th>total_night_calls</th>\n",
              "      <th>total_night_charge</th>\n",
              "      <th>total_intl_charge</th>\n",
              "      <th>number_customer_service_calls</th>\n",
              "      <th>churn</th>\n",
              "    </tr>\n",
              "  </thead>\n",
              "  <tbody>\n",
              "    <tr>\n",
              "      <th>0</th>\n",
              "      <td>101</td>\n",
              "      <td>510</td>\n",
              "      <td>False</td>\n",
              "      <td>10.6</td>\n",
              "      <td>3</td>\n",
              "      <td>0</td>\n",
              "      <td>70.9</td>\n",
              "      <td>123</td>\n",
              "      <td>12.05</td>\n",
              "      <td>211.9</td>\n",
              "      <td>73</td>\n",
              "      <td>18.01</td>\n",
              "      <td>236.0</td>\n",
              "      <td>73</td>\n",
              "      <td>10.62</td>\n",
              "      <td>2.86</td>\n",
              "      <td>3</td>\n",
              "      <td>False</td>\n",
              "    </tr>\n",
              "    <tr>\n",
              "      <th>1</th>\n",
              "      <td>137</td>\n",
              "      <td>510</td>\n",
              "      <td>False</td>\n",
              "      <td>9.5</td>\n",
              "      <td>7</td>\n",
              "      <td>0</td>\n",
              "      <td>223.6</td>\n",
              "      <td>86</td>\n",
              "      <td>38.01</td>\n",
              "      <td>244.8</td>\n",
              "      <td>139</td>\n",
              "      <td>20.81</td>\n",
              "      <td>94.2</td>\n",
              "      <td>81</td>\n",
              "      <td>4.24</td>\n",
              "      <td>2.57</td>\n",
              "      <td>0</td>\n",
              "      <td>False</td>\n",
              "    </tr>\n",
              "    <tr>\n",
              "      <th>2</th>\n",
              "      <td>103</td>\n",
              "      <td>408</td>\n",
              "      <td>False</td>\n",
              "      <td>13.7</td>\n",
              "      <td>6</td>\n",
              "      <td>29</td>\n",
              "      <td>294.7</td>\n",
              "      <td>95</td>\n",
              "      <td>50.10</td>\n",
              "      <td>237.3</td>\n",
              "      <td>105</td>\n",
              "      <td>20.17</td>\n",
              "      <td>300.3</td>\n",
              "      <td>127</td>\n",
              "      <td>13.51</td>\n",
              "      <td>3.70</td>\n",
              "      <td>1</td>\n",
              "      <td>False</td>\n",
              "    </tr>\n",
              "    <tr>\n",
              "      <th>3</th>\n",
              "      <td>99</td>\n",
              "      <td>415</td>\n",
              "      <td>False</td>\n",
              "      <td>15.7</td>\n",
              "      <td>2</td>\n",
              "      <td>0</td>\n",
              "      <td>216.8</td>\n",
              "      <td>123</td>\n",
              "      <td>36.86</td>\n",
              "      <td>126.4</td>\n",
              "      <td>88</td>\n",
              "      <td>10.74</td>\n",
              "      <td>220.6</td>\n",
              "      <td>82</td>\n",
              "      <td>9.93</td>\n",
              "      <td>4.24</td>\n",
              "      <td>1</td>\n",
              "      <td>False</td>\n",
              "    </tr>\n",
              "    <tr>\n",
              "      <th>4</th>\n",
              "      <td>108</td>\n",
              "      <td>415</td>\n",
              "      <td>False</td>\n",
              "      <td>7.7</td>\n",
              "      <td>4</td>\n",
              "      <td>0</td>\n",
              "      <td>197.4</td>\n",
              "      <td>78</td>\n",
              "      <td>33.56</td>\n",
              "      <td>124.0</td>\n",
              "      <td>101</td>\n",
              "      <td>10.54</td>\n",
              "      <td>204.5</td>\n",
              "      <td>107</td>\n",
              "      <td>9.20</td>\n",
              "      <td>2.08</td>\n",
              "      <td>2</td>\n",
              "      <td>False</td>\n",
              "    </tr>\n",
              "  </tbody>\n",
              "</table>\n",
              "</div>"
            ],
            "text/plain": [
              "   account_length  area_code  international_plan  total_intl_minutes  \\\n",
              "0             101        510               False                10.6   \n",
              "1             137        510               False                 9.5   \n",
              "2             103        408               False                13.7   \n",
              "3              99        415               False                15.7   \n",
              "4             108        415               False                 7.7   \n",
              "\n",
              "   total_intl_calls  number_vmail_messages  total_day_minutes  \\\n",
              "0                 3                      0               70.9   \n",
              "1                 7                      0              223.6   \n",
              "2                 6                     29              294.7   \n",
              "3                 2                      0              216.8   \n",
              "4                 4                      0              197.4   \n",
              "\n",
              "   total_day_calls  total_day_charge  total_eve_minutes  total_eve_calls  \\\n",
              "0              123             12.05              211.9               73   \n",
              "1               86             38.01              244.8              139   \n",
              "2               95             50.10              237.3              105   \n",
              "3              123             36.86              126.4               88   \n",
              "4               78             33.56              124.0              101   \n",
              "\n",
              "   total_eve_charge  total_night_minutes  total_night_calls  \\\n",
              "0             18.01                236.0                 73   \n",
              "1             20.81                 94.2                 81   \n",
              "2             20.17                300.3                127   \n",
              "3             10.74                220.6                 82   \n",
              "4             10.54                204.5                107   \n",
              "\n",
              "   total_night_charge  total_intl_charge  number_customer_service_calls  churn  \n",
              "0               10.62               2.86                              3  False  \n",
              "1                4.24               2.57                              0  False  \n",
              "2               13.51               3.70                              1  False  \n",
              "3                9.93               4.24                              1  False  \n",
              "4                9.20               2.08                              2  False  "
            ]
          },
          "metadata": {
            "tags": []
          },
          "execution_count": 43
        }
      ]
    },
    {
      "cell_type": "markdown",
      "metadata": {
        "id": "5vx2dyjPt2ef",
        "colab_type": "text"
      },
      "source": [
        "**DATA ANALYSIS**"
      ]
    },
    {
      "cell_type": "markdown",
      "metadata": {
        "id": "lUJK9Jset5q5",
        "colab_type": "text"
      },
      "source": [
        "**UNIVARIATE ANALYSIS**"
      ]
    },
    {
      "cell_type": "code",
      "metadata": {
        "id": "z-_y2buOcBca",
        "colab_type": "code",
        "colab": {
          "base_uri": "https://localhost:8080/",
          "height": 317
        },
        "outputId": "95546506-189e-48aa-fb04-c06ee42df3de"
      },
      "source": [
        "#get the summary statistics\n",
        "n_customers.describe()"
      ],
      "execution_count": null,
      "outputs": [
        {
          "output_type": "execute_result",
          "data": {
            "text/html": [
              "<div>\n",
              "<style scoped>\n",
              "    .dataframe tbody tr th:only-of-type {\n",
              "        vertical-align: middle;\n",
              "    }\n",
              "\n",
              "    .dataframe tbody tr th {\n",
              "        vertical-align: top;\n",
              "    }\n",
              "\n",
              "    .dataframe thead th {\n",
              "        text-align: right;\n",
              "    }\n",
              "</style>\n",
              "<table border=\"1\" class=\"dataframe\">\n",
              "  <thead>\n",
              "    <tr style=\"text-align: right;\">\n",
              "      <th></th>\n",
              "      <th>account_length</th>\n",
              "      <th>area_code</th>\n",
              "      <th>total_intl_minutes</th>\n",
              "      <th>total_intl_calls</th>\n",
              "      <th>number_vmail_messages</th>\n",
              "      <th>total_day_minutes</th>\n",
              "      <th>total_day_calls</th>\n",
              "      <th>total_day_charge</th>\n",
              "      <th>total_eve_minutes</th>\n",
              "      <th>total_eve_calls</th>\n",
              "      <th>total_eve_charge</th>\n",
              "      <th>total_night_minutes</th>\n",
              "      <th>total_night_calls</th>\n",
              "      <th>total_night_charge</th>\n",
              "      <th>total_intl_charge</th>\n",
              "      <th>number_customer_service_calls</th>\n",
              "    </tr>\n",
              "  </thead>\n",
              "  <tbody>\n",
              "    <tr>\n",
              "      <th>count</th>\n",
              "      <td>5000.00000</td>\n",
              "      <td>5000.000000</td>\n",
              "      <td>5000.000000</td>\n",
              "      <td>5000.000000</td>\n",
              "      <td>5000.000000</td>\n",
              "      <td>5000.000000</td>\n",
              "      <td>5000.000000</td>\n",
              "      <td>5000.000000</td>\n",
              "      <td>5000.000000</td>\n",
              "      <td>5000.000000</td>\n",
              "      <td>5000.000000</td>\n",
              "      <td>5000.000000</td>\n",
              "      <td>5000.000000</td>\n",
              "      <td>5000.000000</td>\n",
              "      <td>5000.000000</td>\n",
              "      <td>5000.000000</td>\n",
              "    </tr>\n",
              "    <tr>\n",
              "      <th>mean</th>\n",
              "      <td>100.25860</td>\n",
              "      <td>436.911400</td>\n",
              "      <td>10.261780</td>\n",
              "      <td>4.435200</td>\n",
              "      <td>7.755200</td>\n",
              "      <td>180.288900</td>\n",
              "      <td>100.029400</td>\n",
              "      <td>30.649668</td>\n",
              "      <td>200.636560</td>\n",
              "      <td>100.191000</td>\n",
              "      <td>17.054322</td>\n",
              "      <td>200.391620</td>\n",
              "      <td>99.919200</td>\n",
              "      <td>9.017732</td>\n",
              "      <td>2.771196</td>\n",
              "      <td>1.570400</td>\n",
              "    </tr>\n",
              "    <tr>\n",
              "      <th>std</th>\n",
              "      <td>39.69456</td>\n",
              "      <td>42.209182</td>\n",
              "      <td>2.761396</td>\n",
              "      <td>2.456788</td>\n",
              "      <td>13.546393</td>\n",
              "      <td>53.894699</td>\n",
              "      <td>19.831197</td>\n",
              "      <td>9.162069</td>\n",
              "      <td>50.551309</td>\n",
              "      <td>19.826496</td>\n",
              "      <td>4.296843</td>\n",
              "      <td>50.527789</td>\n",
              "      <td>19.958686</td>\n",
              "      <td>2.273763</td>\n",
              "      <td>0.745514</td>\n",
              "      <td>1.306363</td>\n",
              "    </tr>\n",
              "    <tr>\n",
              "      <th>min</th>\n",
              "      <td>1.00000</td>\n",
              "      <td>408.000000</td>\n",
              "      <td>0.000000</td>\n",
              "      <td>0.000000</td>\n",
              "      <td>0.000000</td>\n",
              "      <td>0.000000</td>\n",
              "      <td>0.000000</td>\n",
              "      <td>0.000000</td>\n",
              "      <td>0.000000</td>\n",
              "      <td>0.000000</td>\n",
              "      <td>0.000000</td>\n",
              "      <td>0.000000</td>\n",
              "      <td>0.000000</td>\n",
              "      <td>0.000000</td>\n",
              "      <td>0.000000</td>\n",
              "      <td>0.000000</td>\n",
              "    </tr>\n",
              "    <tr>\n",
              "      <th>25%</th>\n",
              "      <td>73.00000</td>\n",
              "      <td>408.000000</td>\n",
              "      <td>8.500000</td>\n",
              "      <td>3.000000</td>\n",
              "      <td>0.000000</td>\n",
              "      <td>143.700000</td>\n",
              "      <td>87.000000</td>\n",
              "      <td>24.430000</td>\n",
              "      <td>166.375000</td>\n",
              "      <td>87.000000</td>\n",
              "      <td>14.140000</td>\n",
              "      <td>166.900000</td>\n",
              "      <td>87.000000</td>\n",
              "      <td>7.510000</td>\n",
              "      <td>2.300000</td>\n",
              "      <td>1.000000</td>\n",
              "    </tr>\n",
              "    <tr>\n",
              "      <th>50%</th>\n",
              "      <td>100.00000</td>\n",
              "      <td>415.000000</td>\n",
              "      <td>10.300000</td>\n",
              "      <td>4.000000</td>\n",
              "      <td>0.000000</td>\n",
              "      <td>180.100000</td>\n",
              "      <td>100.000000</td>\n",
              "      <td>30.620000</td>\n",
              "      <td>201.000000</td>\n",
              "      <td>100.000000</td>\n",
              "      <td>17.090000</td>\n",
              "      <td>200.400000</td>\n",
              "      <td>100.000000</td>\n",
              "      <td>9.020000</td>\n",
              "      <td>2.780000</td>\n",
              "      <td>1.000000</td>\n",
              "    </tr>\n",
              "    <tr>\n",
              "      <th>75%</th>\n",
              "      <td>127.00000</td>\n",
              "      <td>415.000000</td>\n",
              "      <td>12.000000</td>\n",
              "      <td>6.000000</td>\n",
              "      <td>17.000000</td>\n",
              "      <td>216.200000</td>\n",
              "      <td>113.000000</td>\n",
              "      <td>36.750000</td>\n",
              "      <td>234.100000</td>\n",
              "      <td>114.000000</td>\n",
              "      <td>19.900000</td>\n",
              "      <td>234.700000</td>\n",
              "      <td>113.000000</td>\n",
              "      <td>10.560000</td>\n",
              "      <td>3.240000</td>\n",
              "      <td>2.000000</td>\n",
              "    </tr>\n",
              "    <tr>\n",
              "      <th>max</th>\n",
              "      <td>243.00000</td>\n",
              "      <td>510.000000</td>\n",
              "      <td>20.000000</td>\n",
              "      <td>20.000000</td>\n",
              "      <td>52.000000</td>\n",
              "      <td>351.500000</td>\n",
              "      <td>165.000000</td>\n",
              "      <td>59.760000</td>\n",
              "      <td>363.700000</td>\n",
              "      <td>170.000000</td>\n",
              "      <td>30.910000</td>\n",
              "      <td>395.000000</td>\n",
              "      <td>175.000000</td>\n",
              "      <td>17.770000</td>\n",
              "      <td>5.400000</td>\n",
              "      <td>9.000000</td>\n",
              "    </tr>\n",
              "  </tbody>\n",
              "</table>\n",
              "</div>"
            ],
            "text/plain": [
              "       account_length    area_code  total_intl_minutes  total_intl_calls  \\\n",
              "count      5000.00000  5000.000000         5000.000000       5000.000000   \n",
              "mean        100.25860   436.911400           10.261780          4.435200   \n",
              "std          39.69456    42.209182            2.761396          2.456788   \n",
              "min           1.00000   408.000000            0.000000          0.000000   \n",
              "25%          73.00000   408.000000            8.500000          3.000000   \n",
              "50%         100.00000   415.000000           10.300000          4.000000   \n",
              "75%         127.00000   415.000000           12.000000          6.000000   \n",
              "max         243.00000   510.000000           20.000000         20.000000   \n",
              "\n",
              "       number_vmail_messages  total_day_minutes  total_day_calls  \\\n",
              "count            5000.000000        5000.000000      5000.000000   \n",
              "mean                7.755200         180.288900       100.029400   \n",
              "std                13.546393          53.894699        19.831197   \n",
              "min                 0.000000           0.000000         0.000000   \n",
              "25%                 0.000000         143.700000        87.000000   \n",
              "50%                 0.000000         180.100000       100.000000   \n",
              "75%                17.000000         216.200000       113.000000   \n",
              "max                52.000000         351.500000       165.000000   \n",
              "\n",
              "       total_day_charge  total_eve_minutes  total_eve_calls  total_eve_charge  \\\n",
              "count       5000.000000        5000.000000      5000.000000       5000.000000   \n",
              "mean          30.649668         200.636560       100.191000         17.054322   \n",
              "std            9.162069          50.551309        19.826496          4.296843   \n",
              "min            0.000000           0.000000         0.000000          0.000000   \n",
              "25%           24.430000         166.375000        87.000000         14.140000   \n",
              "50%           30.620000         201.000000       100.000000         17.090000   \n",
              "75%           36.750000         234.100000       114.000000         19.900000   \n",
              "max           59.760000         363.700000       170.000000         30.910000   \n",
              "\n",
              "       total_night_minutes  total_night_calls  total_night_charge  \\\n",
              "count          5000.000000        5000.000000         5000.000000   \n",
              "mean            200.391620          99.919200            9.017732   \n",
              "std              50.527789          19.958686            2.273763   \n",
              "min               0.000000           0.000000            0.000000   \n",
              "25%             166.900000          87.000000            7.510000   \n",
              "50%             200.400000         100.000000            9.020000   \n",
              "75%             234.700000         113.000000           10.560000   \n",
              "max             395.000000         175.000000           17.770000   \n",
              "\n",
              "       total_intl_charge  number_customer_service_calls  \n",
              "count        5000.000000                    5000.000000  \n",
              "mean            2.771196                       1.570400  \n",
              "std             0.745514                       1.306363  \n",
              "min             0.000000                       0.000000  \n",
              "25%             2.300000                       1.000000  \n",
              "50%             2.780000                       1.000000  \n",
              "75%             3.240000                       2.000000  \n",
              "max             5.400000                       9.000000  "
            ]
          },
          "metadata": {
            "tags": []
          },
          "execution_count": 44
        }
      ]
    },
    {
      "cell_type": "code",
      "metadata": {
        "id": "VogXuAUqcBHl",
        "colab_type": "code",
        "colab": {
          "base_uri": "https://localhost:8080/",
          "height": 441
        },
        "outputId": "5a928560-ba9a-44d7-8ef4-69e825a5f16a"
      },
      "source": [
        "print(n_customers.area_code.value_counts())\n",
        "\n",
        "plt.figure(figsize = (6, 6))\n",
        "customers.area_code.value_counts().plot(kind = 'pie', autopct = '%1.1f%%')\n",
        "plt.title('Pie Chart of Area Code')\n",
        "plt.show()"
      ],
      "execution_count": null,
      "outputs": [
        {
          "output_type": "stream",
          "text": [
            "415    2495\n",
            "408    1259\n",
            "510    1246\n",
            "Name: area_code, dtype: int64\n"
          ],
          "name": "stdout"
        },
        {
          "output_type": "display_data",
          "data": {
            "image/png": "[encoded data removed]",
            "text/plain": [
              "<Figure size 432x432 with 1 Axes>"
            ]
          },
          "metadata": {
            "tags": []
          }
        }
      ]
    },
    {
      "cell_type": "markdown",
      "metadata": {
        "id": "IwjGPbZGeWVb",
        "colab_type": "text"
      },
      "source": [
        "Area Code 415 consists of almost half of the area codes in this dataset. Area Code 510 very slightly outnumbers Area Code 408."
      ]
    },
    {
      "cell_type": "code",
      "metadata": {
        "id": "kSxlb2S5eo5a",
        "colab_type": "code",
        "colab": {
          "base_uri": "https://localhost:8080/",
          "height": 455
        },
        "outputId": "5ccf8848-1694-4eac-b64d-c40e3ddb3b38"
      },
      "source": [
        "print(n_customers.international_plan.value_counts())\n",
        "\n",
        "plt.figure(figsize = (6, 6))\n",
        "n_customers.international_plan.value_counts().plot(kind = 'bar', rot = 0, color = ['skyblue', 'darkorange'])\n",
        "plt.title('Distribution of International Plan')\n",
        "plt.xlabel('International Plan')\n",
        "plt.show()"
      ],
      "execution_count": null,
      "outputs": [
        {
          "output_type": "stream",
          "text": [
            "False    4527\n",
            "True      473\n",
            "Name: international_plan, dtype: int64\n"
          ],
          "name": "stdout"
        },
        {
          "output_type": "display_data",
          "data": {
            "image/png": "[encoded data removed]",
            "text/plain": [
              "<Figure size 432x432 with 1 Axes>"
            ]
          },
          "metadata": {
            "tags": [],
            "needs_background": "light"
          }
        }
      ]
    },
    {
      "cell_type": "markdown",
      "metadata": {
        "id": "mdEKgmOefp_j",
        "colab_type": "text"
      },
      "source": [
        "Very few customers are subscribed to international dataplan"
      ]
    },
    {
      "cell_type": "code",
      "metadata": {
        "id": "2nW-yEG2gEP1",
        "colab_type": "code",
        "colab": {
          "base_uri": "https://localhost:8080/",
          "height": 684
        },
        "outputId": "62edbafe-bd98-4d66-e5cc-85b916ea07bf"
      },
      "source": [
        "print(n_customers.number_customer_service_calls.value_counts())\n",
        "\n",
        "plt.figure(figsize = (8, 8))\n",
        "n_customers.number_customer_service_calls.value_counts().plot(kind = 'bar', rot = 0)\n",
        "plt.xlabel(\"Number of Calls to Customer Service\")\n",
        "plt.show()"
      ],
      "execution_count": null,
      "outputs": [
        {
          "output_type": "stream",
          "text": [
            "1    1786\n",
            "2    1127\n",
            "0    1023\n",
            "3     665\n",
            "4     252\n",
            "5      96\n",
            "6      34\n",
            "7      13\n",
            "9       2\n",
            "8       2\n",
            "Name: number_customer_service_calls, dtype: int64\n"
          ],
          "name": "stdout"
        },
        {
          "output_type": "display_data",
          "data": {
            "image/png": "[encoded data removed]",
            "text/plain": [
              "<Figure size 576x576 with 1 Axes>"
            ]
          },
          "metadata": {
            "tags": [],
            "needs_background": "light"
          }
        }
      ]
    },
    {
      "cell_type": "markdown",
      "metadata": {
        "id": "_VQJF8ELgeeq",
        "colab_type": "text"
      },
      "source": [
        "Most customers made exactly 1 call to customer service followed by those who made 2 calls, and then those who made 0 calls. Those who made more than 5 calls make up the minority."
      ]
    },
    {
      "cell_type": "code",
      "metadata": {
        "id": "pAzMAJPFhcNZ",
        "colab_type": "code",
        "colab": {
          "base_uri": "https://localhost:8080/",
          "height": 439
        },
        "outputId": "fcd5ef4b-3410-4292-b261-35cad903c0cb"
      },
      "source": [
        "print(n_customers.churn.value_counts())\n",
        "\n",
        "plt.figure(figsize = (6, 6))\n",
        "n_customers.churn.value_counts().plot(kind ='bar', rot = 0, color = ['darkgreen', 'darkred'])\n",
        "plt.xlabel(\"Churn\")\n",
        "plt.show()"
      ],
      "execution_count": null,
      "outputs": [
        {
          "output_type": "stream",
          "text": [
            "False    4293\n",
            "True      707\n",
            "Name: churn, dtype: int64\n"
          ],
          "name": "stdout"
        },
        {
          "output_type": "display_data",
          "data": {
            "image/png": "[encoded data removed]",
            "text/plain": [
              "<Figure size 432x432 with 1 Axes>"
            ]
          },
          "metadata": {
            "tags": [],
            "needs_background": "light"
          }
        }
      ]
    },
    {
      "cell_type": "markdown",
      "metadata": {
        "id": "E-3PQa-siOw4",
        "colab_type": "text"
      },
      "source": [
        "Majority of the customers in this dataset have not churned, thereby making this dataset very biased."
      ]
    },
    {
      "cell_type": "code",
      "metadata": {
        "id": "b_NGA3YqiTJn",
        "colab_type": "code",
        "colab": {
          "base_uri": "https://localhost:8080/",
          "height": 1000
        },
        "outputId": "acb18659-d88a-46a1-e3f4-b98c82a26639"
      },
      "source": [
        "# plotting the histograms of all our numerical variables with the\n",
        "# exception of 'area_code' and 'number_customer_service_calls'\n",
        "num_cols.remove('area_code')\n",
        "num_cols.remove('number_customer_service_calls')\n",
        "\n",
        "fig, axes = plt.subplots(nrows = 7, ncols = 2, figsize = (14, 30))\n",
        "plt.suptitle('Countplots of Tests Measured', fontsize = 20, y = 1.01, color = 'blue')\n",
        "\n",
        "colors = ['#00FF7F', '#8B0000', '#C71585', '#0000FF', '#DB7093', '#FFFF00', '#FF4500',\n",
        "          '#7B68EE', '#FF00FF', '#ADFF2F', '#FFD700', '#A52A2A', '#2F4F4F', '#8B008B']\n",
        "for ax, column, color in zip(axes.flatten(), num_cols, colors):\n",
        "    sns.distplot(n_customers[column], ax = ax, color = color, hist_kws = dict(alpha = 0.75))\n",
        "    \n",
        "plt.tight_layout()"
      ],
      "execution_count": null,
      "outputs": [
        {
          "output_type": "display_data",
          "data": {
            "image/png": "[encoded data removed]",
            "text/plain": [
              "<Figure size 1008x2160 with 14 Axes>"
            ]
          },
          "metadata": {
            "tags": [],
            "needs_background": "light"
          }
        }
      ]
    },
    {
      "cell_type": "markdown",
      "metadata": {
        "id": "g-HDQEoxler2",
        "colab_type": "text"
      },
      "source": [
        "Majority of the numerical variables have normal distributions. Apart from having most of its values in the 0-5 bin, the 'number_vmail_messages' variable appears to be normally distributed. The 'total_intl_calls' variable is skewed to the right and is not continuous."
      ]
    },
    {
      "cell_type": "markdown",
      "metadata": {
        "id": "jR6nF_3Lobkx",
        "colab_type": "text"
      },
      "source": [
        "**BIVARIATE ANALYSIS**"
      ]
    },
    {
      "cell_type": "code",
      "metadata": {
        "id": "zAAGspWgl7hb",
        "colab_type": "code",
        "colab": {
          "base_uri": "https://localhost:8080/",
          "height": 405
        },
        "outputId": "e7e2721b-6555-4293-be99-03b0bfa20ca1"
      },
      "source": [
        "# churn by area code\n",
        "plt.figure(figsize = (8, 6))\n",
        "churn_area_code = sns.countplot('area_code', hue = 'churn', data = n_customers)\n",
        "churn_area_code.set(title = \"Churn by Area Code\", ylabel = 'Area Code')\n",
        "plt.show()"
      ],
      "execution_count": null,
      "outputs": [
        {
          "output_type": "display_data",
          "data": {
            "image/png": "[encoded data removed]",
            "text/plain": [
              "<Figure size 576x432 with 1 Axes>"
            ]
          },
          "metadata": {
            "tags": [],
            "needs_background": "light"
          }
        }
      ]
    },
    {
      "cell_type": "markdown",
      "metadata": {
        "id": "7ebjr0pSpOpU",
        "colab_type": "text"
      },
      "source": [
        "Area code 415 had the highest churn rates"
      ]
    },
    {
      "cell_type": "code",
      "metadata": {
        "id": "ndtrH84rpXmt",
        "colab_type": "code",
        "colab": {
          "base_uri": "https://localhost:8080/",
          "height": 405
        },
        "outputId": "b0fe819c-beaa-4400-f005-d65358103b6e"
      },
      "source": [
        "# churn by international plan\n",
        "plt.figure(figsize = (8, 6))\n",
        "churn_area_code = sns.countplot('international_plan', hue = 'churn', data = n_customers)\n",
        "churn_area_code.set(title = \"Churn by International Plan\", ylabel = 'International Plan')\n",
        "plt.show()"
      ],
      "execution_count": null,
      "outputs": [
        {
          "output_type": "display_data",
          "data": {
            "image/png": "[encoded data removed]",
            "text/plain": [
              "<Figure size 576x432 with 1 Axes>"
            ]
          },
          "metadata": {
            "tags": [],
            "needs_background": "light"
          }
        }
      ]
    },
    {
      "cell_type": "markdown",
      "metadata": {
        "id": "n0jlqY6rpnYi",
        "colab_type": "text"
      },
      "source": [
        "Those without international plans churned more than those with international plans."
      ]
    },
    {
      "cell_type": "code",
      "metadata": {
        "id": "JPcuEJYWp5pY",
        "colab_type": "code",
        "colab": {
          "base_uri": "https://localhost:8080/",
          "height": 405
        },
        "outputId": "0f145f9a-9da3-44b9-aff8-957ba33686e1"
      },
      "source": [
        "# churn by number of customer service calls\n",
        "plt.figure(figsize = (8, 6))\n",
        "churn_area_code = sns.countplot('number_customer_service_calls', hue = 'churn', data = n_customers)\n",
        "churn_area_code.set(title = \"Churn by Number of Customer Service Calls\",\n",
        "                    ylabel = 'Number of Customer Service Calls')\n",
        "plt.show()"
      ],
      "execution_count": null,
      "outputs": [
        {
          "output_type": "display_data",
          "data": {
            "image/png": "[encoded data removed]",
            "text/plain": [
              "<Figure size 576x432 with 1 Axes>"
            ]
          },
          "metadata": {
            "tags": [],
            "needs_background": "light"
          }
        }
      ]
    },
    {
      "cell_type": "markdown",
      "metadata": {
        "id": "Zme4TiWFq1dJ",
        "colab_type": "text"
      },
      "source": [
        "The interesting thing to note here is that those who made 0 or 2 calls to customer service churned at around the same rate. Similarly, those who made more than 3 calls reported high churn rates."
      ]
    },
    {
      "cell_type": "markdown",
      "metadata": {
        "id": "LOnFgBF6rTV2",
        "colab_type": "text"
      },
      "source": [
        "**FEATURE ENGINEERING AND TEST FOR MULTICOLINEARITY**"
      ]
    },
    {
      "cell_type": "code",
      "metadata": {
        "id": "YhkJ7bQkq3rl",
        "colab_type": "code",
        "colab": {
          "base_uri": "https://localhost:8080/",
          "height": 224
        },
        "outputId": "cd150b44-3c1f-444f-d3c0-0ed5e81e0ca0"
      },
      "source": [
        "#Converting values for international value plans to binary\n",
        "n_customers['international_plan'] = n_customers['international_plan'].replace({False : 0, True : 1})\n",
        "n_customers['churn'] = n_customers['churn'].replace({False : 0, True : 1})\n",
        "n_customers.head()"
      ],
      "execution_count": null,
      "outputs": [
        {
          "output_type": "execute_result",
          "data": {
            "text/html": [
              "<div>\n",
              "<style scoped>\n",
              "    .dataframe tbody tr th:only-of-type {\n",
              "        vertical-align: middle;\n",
              "    }\n",
              "\n",
              "    .dataframe tbody tr th {\n",
              "        vertical-align: top;\n",
              "    }\n",
              "\n",
              "    .dataframe thead th {\n",
              "        text-align: right;\n",
              "    }\n",
              "</style>\n",
              "<table border=\"1\" class=\"dataframe\">\n",
              "  <thead>\n",
              "    <tr style=\"text-align: right;\">\n",
              "      <th></th>\n",
              "      <th>account_length</th>\n",
              "      <th>area_code</th>\n",
              "      <th>international_plan</th>\n",
              "      <th>total_intl_minutes</th>\n",
              "      <th>total_intl_calls</th>\n",
              "      <th>number_vmail_messages</th>\n",
              "      <th>total_day_minutes</th>\n",
              "      <th>total_day_calls</th>\n",
              "      <th>total_day_charge</th>\n",
              "      <th>total_eve_minutes</th>\n",
              "      <th>total_eve_calls</th>\n",
              "      <th>total_eve_charge</th>\n",
              "      <th>total_night_minutes</th>\n",
              "      <th>total_night_calls</th>\n",
              "      <th>total_night_charge</th>\n",
              "      <th>total_intl_charge</th>\n",
              "      <th>number_customer_service_calls</th>\n",
              "      <th>churn</th>\n",
              "    </tr>\n",
              "  </thead>\n",
              "  <tbody>\n",
              "    <tr>\n",
              "      <th>0</th>\n",
              "      <td>101</td>\n",
              "      <td>510</td>\n",
              "      <td>0</td>\n",
              "      <td>10.6</td>\n",
              "      <td>3</td>\n",
              "      <td>0</td>\n",
              "      <td>70.9</td>\n",
              "      <td>123</td>\n",
              "      <td>12.05</td>\n",
              "      <td>211.9</td>\n",
              "      <td>73</td>\n",
              "      <td>18.01</td>\n",
              "      <td>236.0</td>\n",
              "      <td>73</td>\n",
              "      <td>10.62</td>\n",
              "      <td>2.86</td>\n",
              "      <td>3</td>\n",
              "      <td>0</td>\n",
              "    </tr>\n",
              "    <tr>\n",
              "      <th>1</th>\n",
              "      <td>137</td>\n",
              "      <td>510</td>\n",
              "      <td>0</td>\n",
              "      <td>9.5</td>\n",
              "      <td>7</td>\n",
              "      <td>0</td>\n",
              "      <td>223.6</td>\n",
              "      <td>86</td>\n",
              "      <td>38.01</td>\n",
              "      <td>244.8</td>\n",
              "      <td>139</td>\n",
              "      <td>20.81</td>\n",
              "      <td>94.2</td>\n",
              "      <td>81</td>\n",
              "      <td>4.24</td>\n",
              "      <td>2.57</td>\n",
              "      <td>0</td>\n",
              "      <td>0</td>\n",
              "    </tr>\n",
              "    <tr>\n",
              "      <th>2</th>\n",
              "      <td>103</td>\n",
              "      <td>408</td>\n",
              "      <td>0</td>\n",
              "      <td>13.7</td>\n",
              "      <td>6</td>\n",
              "      <td>29</td>\n",
              "      <td>294.7</td>\n",
              "      <td>95</td>\n",
              "      <td>50.10</td>\n",
              "      <td>237.3</td>\n",
              "      <td>105</td>\n",
              "      <td>20.17</td>\n",
              "      <td>300.3</td>\n",
              "      <td>127</td>\n",
              "      <td>13.51</td>\n",
              "      <td>3.70</td>\n",
              "      <td>1</td>\n",
              "      <td>0</td>\n",
              "    </tr>\n",
              "    <tr>\n",
              "      <th>3</th>\n",
              "      <td>99</td>\n",
              "      <td>415</td>\n",
              "      <td>0</td>\n",
              "      <td>15.7</td>\n",
              "      <td>2</td>\n",
              "      <td>0</td>\n",
              "      <td>216.8</td>\n",
              "      <td>123</td>\n",
              "      <td>36.86</td>\n",
              "      <td>126.4</td>\n",
              "      <td>88</td>\n",
              "      <td>10.74</td>\n",
              "      <td>220.6</td>\n",
              "      <td>82</td>\n",
              "      <td>9.93</td>\n",
              "      <td>4.24</td>\n",
              "      <td>1</td>\n",
              "      <td>0</td>\n",
              "    </tr>\n",
              "    <tr>\n",
              "      <th>4</th>\n",
              "      <td>108</td>\n",
              "      <td>415</td>\n",
              "      <td>0</td>\n",
              "      <td>7.7</td>\n",
              "      <td>4</td>\n",
              "      <td>0</td>\n",
              "      <td>197.4</td>\n",
              "      <td>78</td>\n",
              "      <td>33.56</td>\n",
              "      <td>124.0</td>\n",
              "      <td>101</td>\n",
              "      <td>10.54</td>\n",
              "      <td>204.5</td>\n",
              "      <td>107</td>\n",
              "      <td>9.20</td>\n",
              "      <td>2.08</td>\n",
              "      <td>2</td>\n",
              "      <td>0</td>\n",
              "    </tr>\n",
              "  </tbody>\n",
              "</table>\n",
              "</div>"
            ],
            "text/plain": [
              "   account_length  area_code  international_plan  total_intl_minutes  \\\n",
              "0             101        510                   0                10.6   \n",
              "1             137        510                   0                 9.5   \n",
              "2             103        408                   0                13.7   \n",
              "3              99        415                   0                15.7   \n",
              "4             108        415                   0                 7.7   \n",
              "\n",
              "   total_intl_calls  number_vmail_messages  total_day_minutes  \\\n",
              "0                 3                      0               70.9   \n",
              "1                 7                      0              223.6   \n",
              "2                 6                     29              294.7   \n",
              "3                 2                      0              216.8   \n",
              "4                 4                      0              197.4   \n",
              "\n",
              "   total_day_calls  total_day_charge  total_eve_minutes  total_eve_calls  \\\n",
              "0              123             12.05              211.9               73   \n",
              "1               86             38.01              244.8              139   \n",
              "2               95             50.10              237.3              105   \n",
              "3              123             36.86              126.4               88   \n",
              "4               78             33.56              124.0              101   \n",
              "\n",
              "   total_eve_charge  total_night_minutes  total_night_calls  \\\n",
              "0             18.01                236.0                 73   \n",
              "1             20.81                 94.2                 81   \n",
              "2             20.17                300.3                127   \n",
              "3             10.74                220.6                 82   \n",
              "4             10.54                204.5                107   \n",
              "\n",
              "   total_night_charge  total_intl_charge  number_customer_service_calls  churn  \n",
              "0               10.62               2.86                              3      0  \n",
              "1                4.24               2.57                              0      0  \n",
              "2               13.51               3.70                              1      0  \n",
              "3                9.93               4.24                              1      0  \n",
              "4                9.20               2.08                              2      0  "
            ]
          },
          "metadata": {
            "tags": []
          },
          "execution_count": 56
        }
      ]
    },
    {
      "cell_type": "code",
      "metadata": {
        "id": "xZFVVNjnsrNc",
        "colab_type": "code",
        "colab": {
          "base_uri": "https://localhost:8080/",
          "height": 627
        },
        "outputId": "1c143a3f-0306-4012-9b02-81d87537516a"
      },
      "source": [
        "# checking the correlations between the numerical variables\n",
        "correlations=n_customers.corr(method='pearson')\n",
        "correlations"
      ],
      "execution_count": null,
      "outputs": [
        {
          "output_type": "execute_result",
          "data": {
            "text/html": [
              "<div>\n",
              "<style scoped>\n",
              "    .dataframe tbody tr th:only-of-type {\n",
              "        vertical-align: middle;\n",
              "    }\n",
              "\n",
              "    .dataframe tbody tr th {\n",
              "        vertical-align: top;\n",
              "    }\n",
              "\n",
              "    .dataframe thead th {\n",
              "        text-align: right;\n",
              "    }\n",
              "</style>\n",
              "<table border=\"1\" class=\"dataframe\">\n",
              "  <thead>\n",
              "    <tr style=\"text-align: right;\">\n",
              "      <th></th>\n",
              "      <th>account_length</th>\n",
              "      <th>area_code</th>\n",
              "      <th>international_plan</th>\n",
              "      <th>total_intl_minutes</th>\n",
              "      <th>total_intl_calls</th>\n",
              "      <th>number_vmail_messages</th>\n",
              "      <th>total_day_minutes</th>\n",
              "      <th>total_day_calls</th>\n",
              "      <th>total_day_charge</th>\n",
              "      <th>total_eve_minutes</th>\n",
              "      <th>total_eve_calls</th>\n",
              "      <th>total_eve_charge</th>\n",
              "      <th>total_night_minutes</th>\n",
              "      <th>total_night_calls</th>\n",
              "      <th>total_night_charge</th>\n",
              "      <th>total_intl_charge</th>\n",
              "      <th>number_customer_service_calls</th>\n",
              "      <th>churn</th>\n",
              "    </tr>\n",
              "  </thead>\n",
              "  <tbody>\n",
              "    <tr>\n",
              "      <th>account_length</th>\n",
              "      <td>1.000000</td>\n",
              "      <td>-0.018054</td>\n",
              "      <td>0.014681</td>\n",
              "      <td>0.001291</td>\n",
              "      <td>0.014277</td>\n",
              "      <td>-0.014575</td>\n",
              "      <td>-0.001017</td>\n",
              "      <td>0.028240</td>\n",
              "      <td>-0.001019</td>\n",
              "      <td>-0.009591</td>\n",
              "      <td>0.009143</td>\n",
              "      <td>-0.009587</td>\n",
              "      <td>0.000668</td>\n",
              "      <td>-0.007825</td>\n",
              "      <td>0.000656</td>\n",
              "      <td>0.001292</td>\n",
              "      <td>-0.001445</td>\n",
              "      <td>0.021203</td>\n",
              "    </tr>\n",
              "    <tr>\n",
              "      <th>area_code</th>\n",
              "      <td>-0.018054</td>\n",
              "      <td>1.000000</td>\n",
              "      <td>0.032107</td>\n",
              "      <td>-0.004154</td>\n",
              "      <td>-0.013623</td>\n",
              "      <td>-0.003399</td>\n",
              "      <td>-0.019118</td>\n",
              "      <td>-0.019314</td>\n",
              "      <td>-0.019119</td>\n",
              "      <td>0.007098</td>\n",
              "      <td>-0.012300</td>\n",
              "      <td>0.007114</td>\n",
              "      <td>0.002084</td>\n",
              "      <td>0.014657</td>\n",
              "      <td>0.002070</td>\n",
              "      <td>-0.004219</td>\n",
              "      <td>0.020921</td>\n",
              "      <td>0.010195</td>\n",
              "    </tr>\n",
              "    <tr>\n",
              "      <th>international_plan</th>\n",
              "      <td>0.014681</td>\n",
              "      <td>0.032107</td>\n",
              "      <td>1.000000</td>\n",
              "      <td>0.031799</td>\n",
              "      <td>0.004493</td>\n",
              "      <td>0.011947</td>\n",
              "      <td>0.028138</td>\n",
              "      <td>0.008102</td>\n",
              "      <td>0.028141</td>\n",
              "      <td>0.021235</td>\n",
              "      <td>0.002505</td>\n",
              "      <td>0.021234</td>\n",
              "      <td>-0.026508</td>\n",
              "      <td>0.005623</td>\n",
              "      <td>-0.026510</td>\n",
              "      <td>0.031751</td>\n",
              "      <td>-0.012974</td>\n",
              "      <td>0.259123</td>\n",
              "    </tr>\n",
              "    <tr>\n",
              "      <th>total_intl_minutes</th>\n",
              "      <td>0.001291</td>\n",
              "      <td>-0.004154</td>\n",
              "      <td>0.031799</td>\n",
              "      <td>1.000000</td>\n",
              "      <td>0.016791</td>\n",
              "      <td>0.002463</td>\n",
              "      <td>-0.019486</td>\n",
              "      <td>0.013097</td>\n",
              "      <td>-0.019490</td>\n",
              "      <td>0.000137</td>\n",
              "      <td>-0.007458</td>\n",
              "      <td>0.000132</td>\n",
              "      <td>-0.006721</td>\n",
              "      <td>0.000391</td>\n",
              "      <td>-0.006717</td>\n",
              "      <td>0.999993</td>\n",
              "      <td>-0.012122</td>\n",
              "      <td>0.063285</td>\n",
              "    </tr>\n",
              "    <tr>\n",
              "      <th>total_intl_calls</th>\n",
              "      <td>0.014277</td>\n",
              "      <td>-0.013623</td>\n",
              "      <td>0.004493</td>\n",
              "      <td>0.016791</td>\n",
              "      <td>1.000000</td>\n",
              "      <td>0.000124</td>\n",
              "      <td>-0.001303</td>\n",
              "      <td>0.010893</td>\n",
              "      <td>-0.001307</td>\n",
              "      <td>0.008388</td>\n",
              "      <td>0.005574</td>\n",
              "      <td>0.008393</td>\n",
              "      <td>-0.017214</td>\n",
              "      <td>-0.000156</td>\n",
              "      <td>-0.017182</td>\n",
              "      <td>0.016900</td>\n",
              "      <td>-0.019147</td>\n",
              "      <td>-0.046893</td>\n",
              "    </tr>\n",
              "    <tr>\n",
              "      <th>number_vmail_messages</th>\n",
              "      <td>-0.014575</td>\n",
              "      <td>-0.003399</td>\n",
              "      <td>0.011947</td>\n",
              "      <td>0.002463</td>\n",
              "      <td>0.000124</td>\n",
              "      <td>1.000000</td>\n",
              "      <td>0.005381</td>\n",
              "      <td>0.000883</td>\n",
              "      <td>0.005377</td>\n",
              "      <td>0.019490</td>\n",
              "      <td>-0.003954</td>\n",
              "      <td>0.019496</td>\n",
              "      <td>0.005541</td>\n",
              "      <td>0.002676</td>\n",
              "      <td>0.005535</td>\n",
              "      <td>0.002505</td>\n",
              "      <td>-0.007086</td>\n",
              "      <td>-0.097633</td>\n",
              "    </tr>\n",
              "    <tr>\n",
              "      <th>total_day_minutes</th>\n",
              "      <td>-0.001017</td>\n",
              "      <td>-0.019118</td>\n",
              "      <td>0.028138</td>\n",
              "      <td>-0.019486</td>\n",
              "      <td>-0.001303</td>\n",
              "      <td>0.005381</td>\n",
              "      <td>1.000000</td>\n",
              "      <td>0.001935</td>\n",
              "      <td>1.000000</td>\n",
              "      <td>-0.010750</td>\n",
              "      <td>0.008128</td>\n",
              "      <td>-0.010760</td>\n",
              "      <td>0.011799</td>\n",
              "      <td>0.004236</td>\n",
              "      <td>0.011783</td>\n",
              "      <td>-0.019415</td>\n",
              "      <td>0.002733</td>\n",
              "      <td>0.207705</td>\n",
              "    </tr>\n",
              "    <tr>\n",
              "      <th>total_day_calls</th>\n",
              "      <td>0.028240</td>\n",
              "      <td>-0.019314</td>\n",
              "      <td>0.008102</td>\n",
              "      <td>0.013097</td>\n",
              "      <td>0.010893</td>\n",
              "      <td>0.000883</td>\n",
              "      <td>0.001935</td>\n",
              "      <td>1.000000</td>\n",
              "      <td>0.001936</td>\n",
              "      <td>-0.000699</td>\n",
              "      <td>0.003754</td>\n",
              "      <td>-0.000695</td>\n",
              "      <td>0.002804</td>\n",
              "      <td>-0.008308</td>\n",
              "      <td>0.002802</td>\n",
              "      <td>0.013161</td>\n",
              "      <td>-0.010739</td>\n",
              "      <td>0.016130</td>\n",
              "    </tr>\n",
              "    <tr>\n",
              "      <th>total_day_charge</th>\n",
              "      <td>-0.001019</td>\n",
              "      <td>-0.019119</td>\n",
              "      <td>0.028141</td>\n",
              "      <td>-0.019490</td>\n",
              "      <td>-0.001307</td>\n",
              "      <td>0.005377</td>\n",
              "      <td>1.000000</td>\n",
              "      <td>0.001936</td>\n",
              "      <td>1.000000</td>\n",
              "      <td>-0.010747</td>\n",
              "      <td>0.008129</td>\n",
              "      <td>-0.010757</td>\n",
              "      <td>0.011801</td>\n",
              "      <td>0.004235</td>\n",
              "      <td>0.011785</td>\n",
              "      <td>-0.019419</td>\n",
              "      <td>0.002726</td>\n",
              "      <td>0.207700</td>\n",
              "    </tr>\n",
              "    <tr>\n",
              "      <th>total_eve_minutes</th>\n",
              "      <td>-0.009591</td>\n",
              "      <td>0.007098</td>\n",
              "      <td>0.021235</td>\n",
              "      <td>0.000137</td>\n",
              "      <td>0.008388</td>\n",
              "      <td>0.019490</td>\n",
              "      <td>-0.010750</td>\n",
              "      <td>-0.000699</td>\n",
              "      <td>-0.010747</td>\n",
              "      <td>1.000000</td>\n",
              "      <td>0.002763</td>\n",
              "      <td>1.000000</td>\n",
              "      <td>-0.016639</td>\n",
              "      <td>0.013420</td>\n",
              "      <td>-0.016642</td>\n",
              "      <td>0.000159</td>\n",
              "      <td>-0.013823</td>\n",
              "      <td>0.089288</td>\n",
              "    </tr>\n",
              "    <tr>\n",
              "      <th>total_eve_calls</th>\n",
              "      <td>0.009143</td>\n",
              "      <td>-0.012300</td>\n",
              "      <td>0.002505</td>\n",
              "      <td>-0.007458</td>\n",
              "      <td>0.005574</td>\n",
              "      <td>-0.003954</td>\n",
              "      <td>0.008128</td>\n",
              "      <td>0.003754</td>\n",
              "      <td>0.008129</td>\n",
              "      <td>0.002763</td>\n",
              "      <td>1.000000</td>\n",
              "      <td>0.002778</td>\n",
              "      <td>0.001781</td>\n",
              "      <td>-0.013682</td>\n",
              "      <td>0.001799</td>\n",
              "      <td>-0.007507</td>\n",
              "      <td>0.006235</td>\n",
              "      <td>-0.006284</td>\n",
              "    </tr>\n",
              "    <tr>\n",
              "      <th>total_eve_charge</th>\n",
              "      <td>-0.009587</td>\n",
              "      <td>0.007114</td>\n",
              "      <td>0.021234</td>\n",
              "      <td>0.000132</td>\n",
              "      <td>0.008393</td>\n",
              "      <td>0.019496</td>\n",
              "      <td>-0.010760</td>\n",
              "      <td>-0.000695</td>\n",
              "      <td>-0.010757</td>\n",
              "      <td>1.000000</td>\n",
              "      <td>0.002778</td>\n",
              "      <td>1.000000</td>\n",
              "      <td>-0.016649</td>\n",
              "      <td>0.013422</td>\n",
              "      <td>-0.016652</td>\n",
              "      <td>0.000155</td>\n",
              "      <td>-0.013836</td>\n",
              "      <td>0.089282</td>\n",
              "    </tr>\n",
              "    <tr>\n",
              "      <th>total_night_minutes</th>\n",
              "      <td>0.000668</td>\n",
              "      <td>0.002084</td>\n",
              "      <td>-0.026508</td>\n",
              "      <td>-0.006721</td>\n",
              "      <td>-0.017214</td>\n",
              "      <td>0.005541</td>\n",
              "      <td>0.011799</td>\n",
              "      <td>0.002804</td>\n",
              "      <td>0.011801</td>\n",
              "      <td>-0.016639</td>\n",
              "      <td>0.001781</td>\n",
              "      <td>-0.016649</td>\n",
              "      <td>1.000000</td>\n",
              "      <td>0.026972</td>\n",
              "      <td>0.999999</td>\n",
              "      <td>-0.006655</td>\n",
              "      <td>-0.008533</td>\n",
              "      <td>0.045677</td>\n",
              "    </tr>\n",
              "    <tr>\n",
              "      <th>total_night_calls</th>\n",
              "      <td>-0.007825</td>\n",
              "      <td>0.014657</td>\n",
              "      <td>0.005623</td>\n",
              "      <td>0.000391</td>\n",
              "      <td>-0.000156</td>\n",
              "      <td>0.002676</td>\n",
              "      <td>0.004236</td>\n",
              "      <td>-0.008308</td>\n",
              "      <td>0.004235</td>\n",
              "      <td>0.013420</td>\n",
              "      <td>-0.013682</td>\n",
              "      <td>0.013422</td>\n",
              "      <td>0.026972</td>\n",
              "      <td>1.000000</td>\n",
              "      <td>0.026949</td>\n",
              "      <td>0.000368</td>\n",
              "      <td>-0.008283</td>\n",
              "      <td>-0.006986</td>\n",
              "    </tr>\n",
              "    <tr>\n",
              "      <th>total_night_charge</th>\n",
              "      <td>0.000656</td>\n",
              "      <td>0.002070</td>\n",
              "      <td>-0.026510</td>\n",
              "      <td>-0.006717</td>\n",
              "      <td>-0.017182</td>\n",
              "      <td>0.005535</td>\n",
              "      <td>0.011783</td>\n",
              "      <td>0.002802</td>\n",
              "      <td>0.011785</td>\n",
              "      <td>-0.016642</td>\n",
              "      <td>0.001799</td>\n",
              "      <td>-0.016652</td>\n",
              "      <td>0.999999</td>\n",
              "      <td>0.026949</td>\n",
              "      <td>1.000000</td>\n",
              "      <td>-0.006650</td>\n",
              "      <td>-0.008530</td>\n",
              "      <td>0.045673</td>\n",
              "    </tr>\n",
              "    <tr>\n",
              "      <th>total_intl_charge</th>\n",
              "      <td>0.001292</td>\n",
              "      <td>-0.004219</td>\n",
              "      <td>0.031751</td>\n",
              "      <td>0.999993</td>\n",
              "      <td>0.016900</td>\n",
              "      <td>0.002505</td>\n",
              "      <td>-0.019415</td>\n",
              "      <td>0.013161</td>\n",
              "      <td>-0.019419</td>\n",
              "      <td>0.000159</td>\n",
              "      <td>-0.007507</td>\n",
              "      <td>0.000155</td>\n",
              "      <td>-0.006655</td>\n",
              "      <td>0.000368</td>\n",
              "      <td>-0.006650</td>\n",
              "      <td>1.000000</td>\n",
              "      <td>-0.012180</td>\n",
              "      <td>0.063275</td>\n",
              "    </tr>\n",
              "    <tr>\n",
              "      <th>number_customer_service_calls</th>\n",
              "      <td>-0.001445</td>\n",
              "      <td>0.020921</td>\n",
              "      <td>-0.012974</td>\n",
              "      <td>-0.012122</td>\n",
              "      <td>-0.019147</td>\n",
              "      <td>-0.007086</td>\n",
              "      <td>0.002733</td>\n",
              "      <td>-0.010739</td>\n",
              "      <td>0.002726</td>\n",
              "      <td>-0.013823</td>\n",
              "      <td>0.006235</td>\n",
              "      <td>-0.013836</td>\n",
              "      <td>-0.008533</td>\n",
              "      <td>-0.008283</td>\n",
              "      <td>-0.008530</td>\n",
              "      <td>-0.012180</td>\n",
              "      <td>1.000000</td>\n",
              "      <td>0.212564</td>\n",
              "    </tr>\n",
              "    <tr>\n",
              "      <th>churn</th>\n",
              "      <td>0.021203</td>\n",
              "      <td>0.010195</td>\n",
              "      <td>0.259123</td>\n",
              "      <td>0.063285</td>\n",
              "      <td>-0.046893</td>\n",
              "      <td>-0.097633</td>\n",
              "      <td>0.207705</td>\n",
              "      <td>0.016130</td>\n",
              "      <td>0.207700</td>\n",
              "      <td>0.089288</td>\n",
              "      <td>-0.006284</td>\n",
              "      <td>0.089282</td>\n",
              "      <td>0.045677</td>\n",
              "      <td>-0.006986</td>\n",
              "      <td>0.045673</td>\n",
              "      <td>0.063275</td>\n",
              "      <td>0.212564</td>\n",
              "      <td>1.000000</td>\n",
              "    </tr>\n",
              "  </tbody>\n",
              "</table>\n",
              "</div>"
            ],
            "text/plain": [
              "                               account_length  area_code  international_plan  \\\n",
              "account_length                       1.000000  -0.018054            0.014681   \n",
              "area_code                           -0.018054   1.000000            0.032107   \n",
              "international_plan                   0.014681   0.032107            1.000000   \n",
              "total_intl_minutes                   0.001291  -0.004154            0.031799   \n",
              "total_intl_calls                     0.014277  -0.013623            0.004493   \n",
              "number_vmail_messages               -0.014575  -0.003399            0.011947   \n",
              "total_day_minutes                   -0.001017  -0.019118            0.028138   \n",
              "total_day_calls                      0.028240  -0.019314            0.008102   \n",
              "total_day_charge                    -0.001019  -0.019119            0.028141   \n",
              "total_eve_minutes                   -0.009591   0.007098            0.021235   \n",
              "total_eve_calls                      0.009143  -0.012300            0.002505   \n",
              "total_eve_charge                    -0.009587   0.007114            0.021234   \n",
              "total_night_minutes                  0.000668   0.002084           -0.026508   \n",
              "total_night_calls                   -0.007825   0.014657            0.005623   \n",
              "total_night_charge                   0.000656   0.002070           -0.026510   \n",
              "total_intl_charge                    0.001292  -0.004219            0.031751   \n",
              "number_customer_service_calls       -0.001445   0.020921           -0.012974   \n",
              "churn                                0.021203   0.010195            0.259123   \n",
              "\n",
              "                               total_intl_minutes  total_intl_calls  \\\n",
              "account_length                           0.001291          0.014277   \n",
              "area_code                               -0.004154         -0.013623   \n",
              "international_plan                       0.031799          0.004493   \n",
              "total_intl_minutes                       1.000000          0.016791   \n",
              "total_intl_calls                         0.016791          1.000000   \n",
              "number_vmail_messages                    0.002463          0.000124   \n",
              "total_day_minutes                       -0.019486         -0.001303   \n",
              "total_day_calls                          0.013097          0.010893   \n",
              "total_day_charge                        -0.019490         -0.001307   \n",
              "total_eve_minutes                        0.000137          0.008388   \n",
              "total_eve_calls                         -0.007458          0.005574   \n",
              "total_eve_charge                         0.000132          0.008393   \n",
              "total_night_minutes                     -0.006721         -0.017214   \n",
              "total_night_calls                        0.000391         -0.000156   \n",
              "total_night_charge                      -0.006717         -0.017182   \n",
              "total_intl_charge                        0.999993          0.016900   \n",
              "number_customer_service_calls           -0.012122         -0.019147   \n",
              "churn                                    0.063285         -0.046893   \n",
              "\n",
              "                               number_vmail_messages  total_day_minutes  \\\n",
              "account_length                             -0.014575          -0.001017   \n",
              "area_code                                  -0.003399          -0.019118   \n",
              "international_plan                          0.011947           0.028138   \n",
              "total_intl_minutes                          0.002463          -0.019486   \n",
              "total_intl_calls                            0.000124          -0.001303   \n",
              "number_vmail_messages                       1.000000           0.005381   \n",
              "total_day_minutes                           0.005381           1.000000   \n",
              "total_day_calls                             0.000883           0.001935   \n",
              "total_day_charge                            0.005377           1.000000   \n",
              "total_eve_minutes                           0.019490          -0.010750   \n",
              "total_eve_calls                            -0.003954           0.008128   \n",
              "total_eve_charge                            0.019496          -0.010760   \n",
              "total_night_minutes                         0.005541           0.011799   \n",
              "total_night_calls                           0.002676           0.004236   \n",
              "total_night_charge                          0.005535           0.011783   \n",
              "total_intl_charge                           0.002505          -0.019415   \n",
              "number_customer_service_calls              -0.007086           0.002733   \n",
              "churn                                      -0.097633           0.207705   \n",
              "\n",
              "                               total_day_calls  total_day_charge  \\\n",
              "account_length                        0.028240         -0.001019   \n",
              "area_code                            -0.019314         -0.019119   \n",
              "international_plan                    0.008102          0.028141   \n",
              "total_intl_minutes                    0.013097         -0.019490   \n",
              "total_intl_calls                      0.010893         -0.001307   \n",
              "number_vmail_messages                 0.000883          0.005377   \n",
              "total_day_minutes                     0.001935          1.000000   \n",
              "total_day_calls                       1.000000          0.001936   \n",
              "total_day_charge                      0.001936          1.000000   \n",
              "total_eve_minutes                    -0.000699         -0.010747   \n",
              "total_eve_calls                       0.003754          0.008129   \n",
              "total_eve_charge                     -0.000695         -0.010757   \n",
              "total_night_minutes                   0.002804          0.011801   \n",
              "total_night_calls                    -0.008308          0.004235   \n",
              "total_night_charge                    0.002802          0.011785   \n",
              "total_intl_charge                     0.013161         -0.019419   \n",
              "number_customer_service_calls        -0.010739          0.002726   \n",
              "churn                                 0.016130          0.207700   \n",
              "\n",
              "                               total_eve_minutes  total_eve_calls  \\\n",
              "account_length                         -0.009591         0.009143   \n",
              "area_code                               0.007098        -0.012300   \n",
              "international_plan                      0.021235         0.002505   \n",
              "total_intl_minutes                      0.000137        -0.007458   \n",
              "total_intl_calls                        0.008388         0.005574   \n",
              "number_vmail_messages                   0.019490        -0.003954   \n",
              "total_day_minutes                      -0.010750         0.008128   \n",
              "total_day_calls                        -0.000699         0.003754   \n",
              "total_day_charge                       -0.010747         0.008129   \n",
              "total_eve_minutes                       1.000000         0.002763   \n",
              "total_eve_calls                         0.002763         1.000000   \n",
              "total_eve_charge                        1.000000         0.002778   \n",
              "total_night_minutes                    -0.016639         0.001781   \n",
              "total_night_calls                       0.013420        -0.013682   \n",
              "total_night_charge                     -0.016642         0.001799   \n",
              "total_intl_charge                       0.000159        -0.007507   \n",
              "number_customer_service_calls          -0.013823         0.006235   \n",
              "churn                                   0.089288        -0.006284   \n",
              "\n",
              "                               total_eve_charge  total_night_minutes  \\\n",
              "account_length                        -0.009587             0.000668   \n",
              "area_code                              0.007114             0.002084   \n",
              "international_plan                     0.021234            -0.026508   \n",
              "total_intl_minutes                     0.000132            -0.006721   \n",
              "total_intl_calls                       0.008393            -0.017214   \n",
              "number_vmail_messages                  0.019496             0.005541   \n",
              "total_day_minutes                     -0.010760             0.011799   \n",
              "total_day_calls                       -0.000695             0.002804   \n",
              "total_day_charge                      -0.010757             0.011801   \n",
              "total_eve_minutes                      1.000000            -0.016639   \n",
              "total_eve_calls                        0.002778             0.001781   \n",
              "total_eve_charge                       1.000000            -0.016649   \n",
              "total_night_minutes                   -0.016649             1.000000   \n",
              "total_night_calls                      0.013422             0.026972   \n",
              "total_night_charge                    -0.016652             0.999999   \n",
              "total_intl_charge                      0.000155            -0.006655   \n",
              "number_customer_service_calls         -0.013836            -0.008533   \n",
              "churn                                  0.089282             0.045677   \n",
              "\n",
              "                               total_night_calls  total_night_charge  \\\n",
              "account_length                         -0.007825            0.000656   \n",
              "area_code                               0.014657            0.002070   \n",
              "international_plan                      0.005623           -0.026510   \n",
              "total_intl_minutes                      0.000391           -0.006717   \n",
              "total_intl_calls                       -0.000156           -0.017182   \n",
              "number_vmail_messages                   0.002676            0.005535   \n",
              "total_day_minutes                       0.004236            0.011783   \n",
              "total_day_calls                        -0.008308            0.002802   \n",
              "total_day_charge                        0.004235            0.011785   \n",
              "total_eve_minutes                       0.013420           -0.016642   \n",
              "total_eve_calls                        -0.013682            0.001799   \n",
              "total_eve_charge                        0.013422           -0.016652   \n",
              "total_night_minutes                     0.026972            0.999999   \n",
              "total_night_calls                       1.000000            0.026949   \n",
              "total_night_charge                      0.026949            1.000000   \n",
              "total_intl_charge                       0.000368           -0.006650   \n",
              "number_customer_service_calls          -0.008283           -0.008530   \n",
              "churn                                  -0.006986            0.045673   \n",
              "\n",
              "                               total_intl_charge  \\\n",
              "account_length                          0.001292   \n",
              "area_code                              -0.004219   \n",
              "international_plan                      0.031751   \n",
              "total_intl_minutes                      0.999993   \n",
              "total_intl_calls                        0.016900   \n",
              "number_vmail_messages                   0.002505   \n",
              "total_day_minutes                      -0.019415   \n",
              "total_day_calls                         0.013161   \n",
              "total_day_charge                       -0.019419   \n",
              "total_eve_minutes                       0.000159   \n",
              "total_eve_calls                        -0.007507   \n",
              "total_eve_charge                        0.000155   \n",
              "total_night_minutes                    -0.006655   \n",
              "total_night_calls                       0.000368   \n",
              "total_night_charge                     -0.006650   \n",
              "total_intl_charge                       1.000000   \n",
              "number_customer_service_calls          -0.012180   \n",
              "churn                                   0.063275   \n",
              "\n",
              "                               number_customer_service_calls     churn  \n",
              "account_length                                     -0.001445  0.021203  \n",
              "area_code                                           0.020921  0.010195  \n",
              "international_plan                                 -0.012974  0.259123  \n",
              "total_intl_minutes                                 -0.012122  0.063285  \n",
              "total_intl_calls                                   -0.019147 -0.046893  \n",
              "number_vmail_messages                              -0.007086 -0.097633  \n",
              "total_day_minutes                                   0.002733  0.207705  \n",
              "total_day_calls                                    -0.010739  0.016130  \n",
              "total_day_charge                                    0.002726  0.207700  \n",
              "total_eve_minutes                                  -0.013823  0.089288  \n",
              "total_eve_calls                                     0.006235 -0.006284  \n",
              "total_eve_charge                                   -0.013836  0.089282  \n",
              "total_night_minutes                                -0.008533  0.045677  \n",
              "total_night_calls                                  -0.008283 -0.006986  \n",
              "total_night_charge                                 -0.008530  0.045673  \n",
              "total_intl_charge                                  -0.012180  0.063275  \n",
              "number_customer_service_calls                       1.000000  0.212564  \n",
              "churn                                               0.212564  1.000000  "
            ]
          },
          "metadata": {
            "tags": []
          },
          "execution_count": 68
        }
      ]
    },
    {
      "cell_type": "code",
      "metadata": {
        "id": "xXgcHc0dzUzw",
        "colab_type": "code",
        "colab": {
          "base_uri": "https://localhost:8080/",
          "height": 544
        },
        "outputId": "1470a042-60a5-4ed4-bdf3-c750d5111f80"
      },
      "source": [
        "# plotting the correlations onto a heatmap\n",
        "plt.figure(figsize=(10,6))\n",
        "sns.heatmap(correlations)"
      ],
      "execution_count": null,
      "outputs": [
        {
          "output_type": "execute_result",
          "data": {
            "text/plain": [
              "<matplotlib.axes._subplots.AxesSubplot at 0x7f37ada40fd0>"
            ]
          },
          "metadata": {
            "tags": []
          },
          "execution_count": 69
        },
        {
          "output_type": "display_data",
          "data": {
            "image/png": "[encoded data removed]",
            "text/plain": [
              "<Figure size 720x432 with 2 Axes>"
            ]
          },
          "metadata": {
            "tags": [],
            "needs_background": "light"
          }
        }
      ]
    },
    {
      "cell_type": "markdown",
      "metadata": {
        "id": "guIlzuV31r2z",
        "colab_type": "text"
      },
      "source": [
        "We see some perfect correlations between the following variables:\n",
        "\n",
        "'total_day_minutes' and 'total_day_charge'\n",
        "\n",
        "'total_eve_minutes' and 'total_eve_charge'\n",
        "\n",
        "'total_night_minutes' and 'total_night_charge'\n",
        "\n",
        "'total_intl_minutes' and 'total_intl_charge'\n",
        "\n",
        "We will drop the minutes."
      ]
    },
    {
      "cell_type": "code",
      "metadata": {
        "id": "YJzPleiq6PYw",
        "colab_type": "code",
        "colab": {}
      },
      "source": [
        "# drop the columns with minutes, e.g., 'total_day_minutes', etc.\n",
        "n_customers= n_customers.drop(columns = ['total_day_minutes', 'total_eve_minutes','total_night_minutes','total_intl_minutes'])\n"
      ],
      "execution_count": null,
      "outputs": []
    },
    {
      "cell_type": "code",
      "metadata": {
        "id": "Lghw_m2X7s42",
        "colab_type": "code",
        "colab": {
          "base_uri": "https://localhost:8080/",
          "height": 544
        },
        "outputId": "cc1f2b2e-7f4f-48fa-9d3b-ff5d0b0b1bf4"
      },
      "source": [
        "# checking the correlations between the numerical variables\n",
        "n_correlations=n_customers.corr(method='pearson')\n",
        "# plotting the correlations onto a heatmap\n",
        "plt.figure(figsize=(10,6))\n",
        "sns.heatmap(n_correlations)"
      ],
      "execution_count": null,
      "outputs": [
        {
          "output_type": "execute_result",
          "data": {
            "text/plain": [
              "<matplotlib.axes._subplots.AxesSubplot at 0x7f378678a8d0>"
            ]
          },
          "metadata": {
            "tags": []
          },
          "execution_count": 73
        },
        {
          "output_type": "display_data",
          "data": {
            "image/png": "[encoded data removed]",
            "text/plain": [
              "<Figure size 720x432 with 2 Axes>"
            ]
          },
          "metadata": {
            "tags": [],
            "needs_background": "light"
          }
        }
      ]
    },
    {
      "cell_type": "markdown",
      "metadata": {
        "id": "D7zHtqm-80LB",
        "colab_type": "text"
      },
      "source": [
        "We will then check the Variance Inflation Factor (VIF) scores to ensure there is no high multicollinearity."
      ]
    },
    {
      "cell_type": "code",
      "metadata": {
        "id": "7KCslkWn8266",
        "colab_type": "code",
        "colab": {
          "base_uri": "https://localhost:8080/",
          "height": 514
        },
        "outputId": "eacce31a-16c0-44d9-83af-b563daba50bd"
      },
      "source": [
        "# calculate VIF and plot the heatmap\n",
        "w=n_customers.assign(const=1)\n",
        "from statsmodels.stats.outliers_influence import variance_inflation_factor\n",
        "vif = pd.DataFrame()\n",
        "vif['VIF'] = [variance_inflation_factor(w.values, i) for i in range(w.shape[1])]\n",
        "vif['variable'] = w.columns\n",
        "vif"
      ],
      "execution_count": null,
      "outputs": [
        {
          "output_type": "execute_result",
          "data": {
            "text/html": [
              "<div>\n",
              "<style scoped>\n",
              "    .dataframe tbody tr th:only-of-type {\n",
              "        vertical-align: middle;\n",
              "    }\n",
              "\n",
              "    .dataframe tbody tr th {\n",
              "        vertical-align: top;\n",
              "    }\n",
              "\n",
              "    .dataframe thead th {\n",
              "        text-align: right;\n",
              "    }\n",
              "</style>\n",
              "<table border=\"1\" class=\"dataframe\">\n",
              "  <thead>\n",
              "    <tr style=\"text-align: right;\">\n",
              "      <th></th>\n",
              "      <th>VIF</th>\n",
              "      <th>variable</th>\n",
              "    </tr>\n",
              "  </thead>\n",
              "  <tbody>\n",
              "    <tr>\n",
              "      <th>0</th>\n",
              "      <td>1.002339</td>\n",
              "      <td>account_length</td>\n",
              "    </tr>\n",
              "    <tr>\n",
              "      <th>1</th>\n",
              "      <td>1.003202</td>\n",
              "      <td>area_code</td>\n",
              "    </tr>\n",
              "    <tr>\n",
              "      <th>2</th>\n",
              "      <td>1.084081</td>\n",
              "      <td>international_plan</td>\n",
              "    </tr>\n",
              "    <tr>\n",
              "      <th>3</th>\n",
              "      <td>1.003978</td>\n",
              "      <td>total_intl_calls</td>\n",
              "    </tr>\n",
              "    <tr>\n",
              "      <th>4</th>\n",
              "      <td>1.013652</td>\n",
              "      <td>number_vmail_messages</td>\n",
              "    </tr>\n",
              "    <tr>\n",
              "      <th>5</th>\n",
              "      <td>1.001953</td>\n",
              "      <td>total_day_calls</td>\n",
              "    </tr>\n",
              "    <tr>\n",
              "      <th>6</th>\n",
              "      <td>1.051936</td>\n",
              "      <td>total_day_charge</td>\n",
              "    </tr>\n",
              "    <tr>\n",
              "      <th>7</th>\n",
              "      <td>1.000780</td>\n",
              "      <td>total_eve_calls</td>\n",
              "    </tr>\n",
              "    <tr>\n",
              "      <th>8</th>\n",
              "      <td>1.012273</td>\n",
              "      <td>total_eve_charge</td>\n",
              "    </tr>\n",
              "    <tr>\n",
              "      <th>9</th>\n",
              "      <td>1.001672</td>\n",
              "      <td>total_night_calls</td>\n",
              "    </tr>\n",
              "    <tr>\n",
              "      <th>10</th>\n",
              "      <td>1.005873</td>\n",
              "      <td>total_night_charge</td>\n",
              "    </tr>\n",
              "    <tr>\n",
              "      <th>11</th>\n",
              "      <td>1.006932</td>\n",
              "      <td>total_intl_charge</td>\n",
              "    </tr>\n",
              "    <tr>\n",
              "      <th>12</th>\n",
              "      <td>1.058861</td>\n",
              "      <td>number_customer_service_calls</td>\n",
              "    </tr>\n",
              "    <tr>\n",
              "      <th>13</th>\n",
              "      <td>1.221835</td>\n",
              "      <td>churn</td>\n",
              "    </tr>\n",
              "    <tr>\n",
              "      <th>14</th>\n",
              "      <td>257.032690</td>\n",
              "      <td>const</td>\n",
              "    </tr>\n",
              "  </tbody>\n",
              "</table>\n",
              "</div>"
            ],
            "text/plain": [
              "           VIF                       variable\n",
              "0     1.002339                 account_length\n",
              "1     1.003202                      area_code\n",
              "2     1.084081             international_plan\n",
              "3     1.003978               total_intl_calls\n",
              "4     1.013652          number_vmail_messages\n",
              "5     1.001953                total_day_calls\n",
              "6     1.051936               total_day_charge\n",
              "7     1.000780                total_eve_calls\n",
              "8     1.012273               total_eve_charge\n",
              "9     1.001672              total_night_calls\n",
              "10    1.005873             total_night_charge\n",
              "11    1.006932              total_intl_charge\n",
              "12    1.058861  number_customer_service_calls\n",
              "13    1.221835                          churn\n",
              "14  257.032690                          const"
            ]
          },
          "metadata": {
            "tags": []
          },
          "execution_count": 93
        }
      ]
    },
    {
      "cell_type": "markdown",
      "metadata": {
        "id": "0fgRf4B8H8HD",
        "colab_type": "text"
      },
      "source": [
        "We don't see any VIF score of 5 and above, which means our dataset does not have high levels of multicollinearity. "
      ]
    },
    {
      "cell_type": "markdown",
      "metadata": {
        "id": "L43sRpVdICY4",
        "colab_type": "text"
      },
      "source": [
        "**DATA MODELLING**"
      ]
    },
    {
      "cell_type": "markdown",
      "metadata": {
        "id": "ZybgpPoOLagd",
        "colab_type": "text"
      },
      "source": [
        "We will carry out 5 types of classification analysis, namely:\n",
        "\n",
        "Logistic Regression\n",
        "\n",
        "Gaussian Naive Bayes (NB) classification\n",
        "\n",
        "Decision Trees Classification\n",
        "\n",
        "K-Nearest Neighbors (KNN) Classification\n",
        "\n",
        "Support Vector Machine (SVM) Classification\n",
        "\n",
        "We will then compare the different classification models to assess the best performing one(s)."
      ]
    },
    {
      "cell_type": "code",
      "metadata": {
        "id": "GMM4cmyFIGC1",
        "colab_type": "code",
        "colab": {}
      },
      "source": [
        "# dividing our dataset into features (X) and target (y)\n",
        "X = n_customers.iloc[:, 0:12].values  \n",
        "y = n_customers.iloc[:, 13].values     "
      ],
      "execution_count": null,
      "outputs": []
    },
    {
      "cell_type": "code",
      "metadata": {
        "id": "ZIbdTrwKMqzR",
        "colab_type": "code",
        "colab": {}
      },
      "source": [
        "# splitting into 80-20 train-test sets\n",
        "from sklearn.model_selection import train_test_split\n",
        "X_train, X_test, y_train, y_test = train_test_split(X, y, train_size=0.8,test_size = 0.2, random_state = 0)"
      ],
      "execution_count": null,
      "outputs": []
    },
    {
      "cell_type": "code",
      "metadata": {
        "id": "-Wp2fr_pM7VO",
        "colab_type": "code",
        "colab": {}
      },
      "source": [
        "# performing feature scaling on our training data\n",
        "from sklearn.preprocessing import StandardScaler\n",
        "scaler = StandardScaler()\n",
        "\n",
        "# fitting and transforming X_train while transforming X_test\n",
        "X_train = scaler.fit_transform(X_train)\n",
        "X_test = scaler.transform(X_test)"
      ],
      "execution_count": null,
      "outputs": []
    },
    {
      "cell_type": "code",
      "metadata": {
        "id": "q5YSMxdyOW22",
        "colab_type": "code",
        "colab": {}
      },
      "source": [
        "# loading our classification libraries\n",
        "from sklearn.linear_model import LogisticRegression \n",
        "from sklearn.tree import DecisionTreeClassifier     \n",
        "from sklearn.svm import SVC                         \n",
        "from sklearn.naive_bayes import GaussianNB          \n",
        "from sklearn.neighbors import KNeighborsClassifier\n",
        "\n",
        "# instantiating our classifiers\n",
        "logistic_classifier = LogisticRegression(random_state = 0, solver='lbfgs')\n",
        "decision_classifier = DecisionTreeClassifier()\n",
        "svm_classifier = SVC()\n",
        "knn_classifier = KNeighborsClassifier(n_neighbors=5)\n",
        "naive_classifier = GaussianNB()\n",
        "\n",
        "# fitting our classifiers to the training data\n",
        "logistic_classifier.fit(X_train, y_train)\n",
        "decision_classifier.fit(X_train, y_train)\n",
        "svm_classifier.fit(X_train, y_train)\n",
        "knn_classifier.fit(X_train, y_train)\n",
        "naive_classifier.fit(X_train, y_train)\n",
        "\n",
        "# making predictions\n",
        "logistic_y_prediction = logistic_classifier.predict(X_test) \n",
        "decision_y_prediction = decision_classifier.predict(X_test) \n",
        "svm_y_prediction = svm_classifier.predict(X_test) \n",
        "knn_y_prediction = knn_classifier.predict(X_test) \n",
        "naive_y_prediction = naive_classifier.predict(X_test)"
      ],
      "execution_count": null,
      "outputs": []
    },
    {
      "cell_type": "code",
      "metadata": {
        "id": "gsaUlLh8Pm34",
        "colab_type": "code",
        "colab": {
          "base_uri": "https://localhost:8080/",
          "height": 867
        },
        "outputId": "1ecba06f-ee38-43cf-daa1-cb8e47121f90"
      },
      "source": [
        "# printing the classification report for each classifier to assess performance\n",
        "from sklearn.metrics import classification_report\n",
        "\n",
        "# classification report for Logistic Regression\n",
        "print(\"Logistic Regression classification report:\")\n",
        "print(classification_report(logistic_y_prediction, y_test))\n",
        "\n",
        "# classification report for Gaussian Naive Bayes Classifier\n",
        "print(\"Gaussian Naive Bayes classification report:\")\n",
        "print(classification_report(naive_y_prediction, y_test))\n",
        "\n",
        "# classification report for Decision Tree Classifier\n",
        "print(\"Decision Tree classification report:\")\n",
        "print(classification_report(decision_y_prediction, y_test))\n",
        "\n",
        "# classification report for K-Nearest Neighbors Classifier\n",
        "print(\"K-Nearest Neighbors classification report:\")\n",
        "print(classification_report(knn_y_prediction, y_test))\n",
        "\n",
        "# classification report for Support Vector Machine Classifier\n",
        "print(\"Support Vector Machine classification report:\")\n",
        "print(classification_report(svm_y_prediction, y_test))"
      ],
      "execution_count": null,
      "outputs": [
        {
          "output_type": "stream",
          "text": [
            "Logistic Regression classification report:\n",
            "              precision    recall  f1-score   support\n",
            "\n",
            "           0       0.99      0.86      0.92       970\n",
            "           1       0.13      0.63      0.21        30\n",
            "\n",
            "    accuracy                           0.86      1000\n",
            "   macro avg       0.56      0.75      0.57      1000\n",
            "weighted avg       0.96      0.86      0.90      1000\n",
            "\n",
            "Gaussian Naive Bayes classification report:\n",
            "              precision    recall  f1-score   support\n",
            "\n",
            "           0       0.94      0.88      0.91       907\n",
            "           1       0.29      0.47      0.36        93\n",
            "\n",
            "    accuracy                           0.84      1000\n",
            "   macro avg       0.62      0.68      0.64      1000\n",
            "weighted avg       0.88      0.84      0.86      1000\n",
            "\n",
            "Decision Tree classification report:\n",
            "              precision    recall  f1-score   support\n",
            "\n",
            "           0       0.91      0.92      0.91       838\n",
            "           1       0.55      0.51      0.53       162\n",
            "\n",
            "    accuracy                           0.85      1000\n",
            "   macro avg       0.73      0.72      0.72      1000\n",
            "weighted avg       0.85      0.85      0.85      1000\n",
            "\n",
            "K-Nearest Neighbors classification report:\n",
            "              precision    recall  f1-score   support\n",
            "\n",
            "           0       0.99      0.88      0.93       955\n",
            "           1       0.23      0.76      0.35        45\n",
            "\n",
            "    accuracy                           0.87      1000\n",
            "   macro avg       0.61      0.82      0.64      1000\n",
            "weighted avg       0.95      0.87      0.90      1000\n",
            "\n",
            "Support Vector Machine classification report:\n",
            "              precision    recall  f1-score   support\n",
            "\n",
            "           0       0.99      0.89      0.94       942\n",
            "           1       0.32      0.83      0.46        58\n",
            "\n",
            "    accuracy                           0.89      1000\n",
            "   macro avg       0.65      0.86      0.70      1000\n",
            "weighted avg       0.95      0.89      0.91      1000\n",
            "\n"
          ],
          "name": "stdout"
        }
      ]
    },
    {
      "cell_type": "markdown",
      "metadata": {
        "id": "EiGyYE31Q2bB",
        "colab_type": "text"
      },
      "source": [
        "The support shows the dataset is highly imbalanced  \n",
        "\n",
        "For logistic regression the is precision: 0.96 , the recall: 0.86  and f1_score: 0.90\n",
        "\n",
        "For Naive Bayes the is precision: 0.88 , the recall: 0.84  and f1_score: 0.86 \n",
        "\n",
        "For Decision Tree classification the is precision: 0.85, the recall:  0.85  and f1_score: 0.85\n",
        "\n",
        "For K-Nearest Neighbors  the is precision: 0.95,the recall: 0.87   and f1_score: 0.90\n",
        "\n",
        "For Support Vector Machine classification the is precision: 0.95,  the recall: 0.89  and f1_score: 0.91"
      ]
    },
    {
      "cell_type": "markdown",
      "metadata": {
        "id": "Z2f1X8Fbjwal",
        "colab_type": "text"
      },
      "source": [
        "**SUMMARY OF FINDINGS**"
      ]
    },
    {
      "cell_type": "markdown",
      "metadata": {
        "id": "TD97AEt0j1u2",
        "colab_type": "text"
      },
      "source": [
        "\n",
        "\n",
        "*   Area Code 415 consists of almost half of the area codes in this dataset. Area Code 510 very slightly outnumbers Area Code 408.\n",
        "*   Very few of the customers are subscribed to an international plan.\n",
        "*   Majority of the customers in this dataset have not churned, thereby making this dataset very biased.\n",
        "*   Majority of the numerical variables have normal distributions. Apart from having most of its values in the 0-5 bin, the 'number_vmail_messages' variable appears to be normally distributed. The 'total_intl_calls' variable is skewed to the right and is not continuous.\n",
        "*   Area code 415 reports the highest churn rates.\n",
        "*   Those without international plans churned more than those with international plans.\n",
        "*   The interesting thing to note here is that those who made 0 or 2 calls to customer service churned at around the same rate. Similarly, those who made more than 3 calls reported high churn rates.\n",
        "*   The support shows the dataset is highly imbalanced\n",
        "*   For logistic regression the is precision: 0.96 , the recall: 0.86 and f1_score:0.90\n",
        "\n",
        "*   For Naive Bayes the is precision: 0.88 , the recall: 0.84 and f1_score: 0.86\n",
        "\n",
        "*   For Decision Tree classification the is precision: 0.85, the recall: 0.85 and f1_score: 0.85\n",
        "*   For K-Nearest Neighbors the is precision: 0.95,the recall: 0.87 and f1_score: 0.90\n",
        "\n",
        "\n",
        "*   For Support Vector Machine classification the is precision: 0.95, the recall: 0.89 and f1_score: 0.91\n",
        "\n"
      ]
    },
    {
      "cell_type": "markdown",
      "metadata": {
        "id": "x8-i1KxMmcn0",
        "colab_type": "text"
      },
      "source": [
        "**RECCOMENDATION**"
      ]
    },
    {
      "cell_type": "markdown",
      "metadata": {
        "id": "pHio0KaYmlB2",
        "colab_type": "text"
      },
      "source": [
        "\n",
        "*   The company should consider marketing more in area 415 as it records the highest number of churns\n",
        "\n",
        "*   Customer service is seemingly not the main reason for customer churns. I reccomend a further analysis to determine what causes churnung among customers\n",
        "\n",
        "*   The company should consider improvement for the local plans as those without international plans recorded high churns\n",
        "\n",
        "\n",
        "*   The most accurate model was support vector machine which recorded an f1_score of 0.91\n"
      ]
    },
    {
      "cell_type": "markdown",
      "metadata": {
        "id": "du785lQvs8ZZ",
        "colab_type": "text"
      },
      "source": [
        "**SOLUTION IMPROVEMENT**"
      ]
    },
    {
      "cell_type": "markdown",
      "metadata": {
        "id": "yXANe66GtFxx",
        "colab_type": "text"
      },
      "source": [
        "I suggest using ROC curve and Area under ROC curve to determine the best model as the data is highly imbalanced"
      ]
    }
  ]
}